{
 "cells": [
  {
   "cell_type": "markdown",
   "metadata": {},
   "source": [
    "# POC. Accuracy lower due to quality of data"
   ]
  },
  {
   "cell_type": "code",
   "execution_count": 1,
   "metadata": {},
   "outputs": [],
   "source": [
    "import pandas as pd\n",
    "import numpy as np\n",
    "\n",
    "from sklearn.ensemble import RandomForestRegressor\n",
    "import tensorflow as tf"
   ]
  },
  {
   "cell_type": "code",
   "execution_count": 351,
   "metadata": {},
   "outputs": [
    {
     "name": "stderr",
     "output_type": "stream",
     "text": [
      "C:\\Users\\seeming.tan\\AppData\\Local\\Continuum\\anaconda3\\envs\\tensorflow-keras\\lib\\site-packages\\pandas\\util\\_decorators.py:188: FutureWarning: The `sheetname` keyword is deprecated, use `sheet_name` instead\n",
      "  return func(*args, **kwargs)\n"
     ]
    }
   ],
   "source": [
    "df = pd.read_excel('/Users/seeming.tan/Desktop/ABI_Files.xlsx', sheetname='Sheet1')"
   ]
  },
  {
   "cell_type": "code",
   "execution_count": 352,
   "metadata": {
    "scrolled": true
   },
   "outputs": [
    {
     "name": "stdout",
     "output_type": "stream",
     "text": [
      "<class 'pandas.core.frame.DataFrame'>\n",
      "RangeIndex: 18 entries, 0 to 17\n",
      "Data columns (total 57 columns):\n",
      "CAT                           18 non-null object\n",
      "NVIC                          18 non-null object\n",
      "SEGMENT                       18 non-null object\n",
      "COUNTRY OF ORIGIN             18 non-null object\n",
      "YEAR                          18 non-null int64\n",
      "MANUFACTURED                  18 non-null int64\n",
      "DATE REL                      18 non-null datetime64[ns]\n",
      "DATE DISC                     13 non-null datetime64[ns]\n",
      "MAKE                          18 non-null object\n",
      "FAMILY                        18 non-null object\n",
      "VARIANT                       18 non-null object\n",
      "SERIES                        11 non-null object\n",
      "STYLE                         18 non-null object\n",
      "ENGINE                        18 non-null object\n",
      "CC                            18 non-null int64\n",
      "TRANSMISSION                  18 non-null object\n",
      "CYL                           18 non-null object\n",
      "Peninsular Malaysia NEW PR    18 non-null int64\n",
      "Peninsular Malaysia RRR       18 non-null int64\n",
      "Sabah & Sarawak NEW PR        0 non-null float64\n",
      "Sabah & Sarawak RRR           16 non-null float64\n",
      "VALVE GEAR                    18 non-null object\n",
      "NO OF VALVES                  18 non-null int64\n",
      "COMP RATIO                    18 non-null float64\n",
      "BORE/STROKE                   18 non-null object\n",
      "KW                            18 non-null int64\n",
      "TORQUE                        18 non-null int64\n",
      "DRIVEN WHEEL                  18 non-null object\n",
      "GVM                           17 non-null float64\n",
      "HEIGHT                        18 non-null int64\n",
      "LENGTH                        18 non-null int64\n",
      "WIDTH                         18 non-null int64\n",
      "GCLEAR                        18 non-null int64\n",
      "WHEELBASE                     18 non-null int64\n",
      "KERBWT                        18 non-null int64\n",
      "TCIRCLE                       17 non-null float64\n",
      "TRACKF                        18 non-null int64\n",
      "TRACKR                        18 non-null int64\n",
      "SEAT                          18 non-null int64\n",
      "STEERING                      18 non-null object\n",
      "WHEEL RIM FRONT               16 non-null object\n",
      "WHEEL RIM REAR                16 non-null object\n",
      "TYRES FRONT                   12 non-null object\n",
      "TYRES REAR                    12 non-null object\n",
      "FUEL TYPE                     18 non-null object\n",
      "FUELTK                        18 non-null int64\n",
      "FUELHW                        18 non-null float64\n",
      "FUELCY                        18 non-null float64\n",
      "BRAKE FR                      18 non-null object\n",
      "BRAKE RR                      18 non-null object\n",
      "SUSPENSION FRONT              18 non-null object\n",
      "SUSPENSION REAR               18 non-null object\n",
      "RPM_KW                        18 non-null int64\n",
      "RPM_TORQUE                    18 non-null int64\n",
      "CLASS_CODE                    18 non-null int64\n",
      "MAKE_CODE                     18 non-null int64\n",
      "MODEL_CODE                    18 non-null int64\n",
      "dtypes: datetime64[ns](2), float64(7), int64(23), object(25)\n",
      "memory usage: 8.1+ KB\n"
     ]
    }
   ],
   "source": [
    "df.info()"
   ]
  },
  {
   "cell_type": "code",
   "execution_count": 353,
   "metadata": {
    "scrolled": true
   },
   "outputs": [
    {
     "data": {
      "text/html": [
       "<div>\n",
       "<style scoped>\n",
       "    .dataframe tbody tr th:only-of-type {\n",
       "        vertical-align: middle;\n",
       "    }\n",
       "\n",
       "    .dataframe tbody tr th {\n",
       "        vertical-align: top;\n",
       "    }\n",
       "\n",
       "    .dataframe thead th {\n",
       "        text-align: right;\n",
       "    }\n",
       "</style>\n",
       "<table border=\"1\" class=\"dataframe\">\n",
       "  <thead>\n",
       "    <tr style=\"text-align: right;\">\n",
       "      <th></th>\n",
       "      <th>Total</th>\n",
       "      <th>Percent</th>\n",
       "    </tr>\n",
       "  </thead>\n",
       "  <tbody>\n",
       "    <tr>\n",
       "      <th>Sabah &amp; Sarawak NEW PR</th>\n",
       "      <td>18</td>\n",
       "      <td>1.000000</td>\n",
       "    </tr>\n",
       "    <tr>\n",
       "      <th>SERIES</th>\n",
       "      <td>7</td>\n",
       "      <td>0.388889</td>\n",
       "    </tr>\n",
       "    <tr>\n",
       "      <th>TYRES FRONT</th>\n",
       "      <td>6</td>\n",
       "      <td>0.333333</td>\n",
       "    </tr>\n",
       "    <tr>\n",
       "      <th>TYRES REAR</th>\n",
       "      <td>6</td>\n",
       "      <td>0.333333</td>\n",
       "    </tr>\n",
       "    <tr>\n",
       "      <th>DATE DISC</th>\n",
       "      <td>5</td>\n",
       "      <td>0.277778</td>\n",
       "    </tr>\n",
       "    <tr>\n",
       "      <th>WHEEL RIM REAR</th>\n",
       "      <td>2</td>\n",
       "      <td>0.111111</td>\n",
       "    </tr>\n",
       "    <tr>\n",
       "      <th>Sabah &amp; Sarawak RRR</th>\n",
       "      <td>2</td>\n",
       "      <td>0.111111</td>\n",
       "    </tr>\n",
       "    <tr>\n",
       "      <th>WHEEL RIM FRONT</th>\n",
       "      <td>2</td>\n",
       "      <td>0.111111</td>\n",
       "    </tr>\n",
       "    <tr>\n",
       "      <th>TCIRCLE</th>\n",
       "      <td>1</td>\n",
       "      <td>0.055556</td>\n",
       "    </tr>\n",
       "    <tr>\n",
       "      <th>GVM</th>\n",
       "      <td>1</td>\n",
       "      <td>0.055556</td>\n",
       "    </tr>\n",
       "    <tr>\n",
       "      <th>FAMILY</th>\n",
       "      <td>0</td>\n",
       "      <td>0.000000</td>\n",
       "    </tr>\n",
       "    <tr>\n",
       "      <th>COUNTRY OF ORIGIN</th>\n",
       "      <td>0</td>\n",
       "      <td>0.000000</td>\n",
       "    </tr>\n",
       "    <tr>\n",
       "      <th>COMP RATIO</th>\n",
       "      <td>0</td>\n",
       "      <td>0.000000</td>\n",
       "    </tr>\n",
       "    <tr>\n",
       "      <th>NO OF VALVES</th>\n",
       "      <td>0</td>\n",
       "      <td>0.000000</td>\n",
       "    </tr>\n",
       "    <tr>\n",
       "      <th>VALVE GEAR</th>\n",
       "      <td>0</td>\n",
       "      <td>0.000000</td>\n",
       "    </tr>\n",
       "    <tr>\n",
       "      <th>NVIC</th>\n",
       "      <td>0</td>\n",
       "      <td>0.000000</td>\n",
       "    </tr>\n",
       "    <tr>\n",
       "      <th>SEGMENT</th>\n",
       "      <td>0</td>\n",
       "      <td>0.000000</td>\n",
       "    </tr>\n",
       "    <tr>\n",
       "      <th>Peninsular Malaysia RRR</th>\n",
       "      <td>0</td>\n",
       "      <td>0.000000</td>\n",
       "    </tr>\n",
       "    <tr>\n",
       "      <th>Peninsular Malaysia NEW PR</th>\n",
       "      <td>0</td>\n",
       "      <td>0.000000</td>\n",
       "    </tr>\n",
       "    <tr>\n",
       "      <th>CYL</th>\n",
       "      <td>0</td>\n",
       "      <td>0.000000</td>\n",
       "    </tr>\n",
       "  </tbody>\n",
       "</table>\n",
       "</div>"
      ],
      "text/plain": [
       "                            Total   Percent\n",
       "Sabah & Sarawak NEW PR         18  1.000000\n",
       "SERIES                          7  0.388889\n",
       "TYRES FRONT                     6  0.333333\n",
       "TYRES REAR                      6  0.333333\n",
       "DATE DISC                       5  0.277778\n",
       "WHEEL RIM REAR                  2  0.111111\n",
       "Sabah & Sarawak RRR             2  0.111111\n",
       "WHEEL RIM FRONT                 2  0.111111\n",
       "TCIRCLE                         1  0.055556\n",
       "GVM                             1  0.055556\n",
       "FAMILY                          0  0.000000\n",
       "COUNTRY OF ORIGIN               0  0.000000\n",
       "COMP RATIO                      0  0.000000\n",
       "NO OF VALVES                    0  0.000000\n",
       "VALVE GEAR                      0  0.000000\n",
       "NVIC                            0  0.000000\n",
       "SEGMENT                         0  0.000000\n",
       "Peninsular Malaysia RRR         0  0.000000\n",
       "Peninsular Malaysia NEW PR      0  0.000000\n",
       "CYL                             0  0.000000"
      ]
     },
     "execution_count": 353,
     "metadata": {},
     "output_type": "execute_result"
    }
   ],
   "source": [
    "total = df.isnull().sum().sort_values(ascending=False)\n",
    "percent = (df.isnull().sum()/df.isnull().count()).sort_values(ascending=False)\n",
    "missing_data = pd.concat([total, percent], axis=1, keys=['Total', 'Percent'])\n",
    "missing_data.head(20)"
   ]
  },
  {
   "cell_type": "code",
   "execution_count": 354,
   "metadata": {
    "scrolled": true
   },
   "outputs": [
    {
     "data": {
      "text/plain": [
       "CAT                            0\n",
       "NVIC                           0\n",
       "SEGMENT                        0\n",
       "COUNTRY OF ORIGIN              0\n",
       "YEAR                           0\n",
       "MANUFACTURED                   0\n",
       "DATE REL                       0\n",
       "DATE DISC                      0\n",
       "MAKE                           0\n",
       "FAMILY                         0\n",
       "VARIANT                        0\n",
       "SERIES                         0\n",
       "STYLE                          0\n",
       "ENGINE                         0\n",
       "CC                             0\n",
       "TRANSMISSION                   0\n",
       "CYL                            0\n",
       "Peninsular Malaysia NEW PR     0\n",
       "Peninsular Malaysia RRR        0\n",
       "Sabah & Sarawak NEW PR         0\n",
       "Sabah & Sarawak RRR            0\n",
       "VALVE GEAR                     0\n",
       "NO OF VALVES                   0\n",
       "COMP RATIO                     0\n",
       "BORE/STROKE                    0\n",
       "KW                             0\n",
       "TORQUE                         0\n",
       "DRIVEN WHEEL                   0\n",
       "GVM                           10\n",
       "HEIGHT                         0\n",
       "LENGTH                         0\n",
       "WIDTH                          0\n",
       "GCLEAR                        15\n",
       "WHEELBASE                      0\n",
       "KERBWT                         0\n",
       "TCIRCLE                       14\n",
       "TRACKF                         0\n",
       "TRACKR                         0\n",
       "SEAT                           0\n",
       "STEERING                       0\n",
       "WHEEL RIM FRONT                0\n",
       "WHEEL RIM REAR                 0\n",
       "TYRES FRONT                    0\n",
       "TYRES REAR                     0\n",
       "FUEL TYPE                      0\n",
       "FUELTK                         0\n",
       "FUELHW                        14\n",
       "FUELCY                        14\n",
       "BRAKE FR                       0\n",
       "BRAKE RR                       0\n",
       "SUSPENSION FRONT               0\n",
       "SUSPENSION REAR                0\n",
       "RPM_KW                         8\n",
       "RPM_TORQUE                     4\n",
       "CLASS_CODE                     0\n",
       "MAKE_CODE                      0\n",
       "MODEL_CODE                     0\n",
       "dtype: int64"
      ]
     },
     "execution_count": 354,
     "metadata": {},
     "output_type": "execute_result"
    }
   ],
   "source": [
    "zeros = (df == 0).astype(int).sum(axis=0)\n",
    "zeros"
   ]
  },
  {
   "cell_type": "code",
   "execution_count": 355,
   "metadata": {},
   "outputs": [],
   "source": [
    "#df.drop(['CAT','NVIC','Sabah & Sarawak NEW PR' ,'DATE REL', 'FAMILY', 'VARIANT' ,'SERIES' ,'BORE/STROKE','TYRES FRONT','TYRES REAR','DATE DISC','STEERING','WHEEL RIM REAR','WHEEL RIM FRONT' , 'GVM' , 'GCLEAR' , 'TCIRCLE', 'FUELHW' , 'FUELCY', 'RPM_KW', 'RPM_TORQUE','CLASS_CODE','MAKE_CODE','MODEL_CODE'], axis=1, inplace=True)\n",
    "#df = df[['YEAR','MANUFACTURED','MAKE','STYLE','ENGINE','CC','TRANSMISSION','CYL','Peninsular Malaysia RRR','Sabah & Sarawak RRR','VALVE GEAR','NO OF VALVES','KW','TORQUE']]\n",
    "df = df[['COUNTRY OF ORIGIN','YEAR','MANUFACTURED','MAKE','CC','CYL','Peninsular Malaysia RRR','Sabah & Sarawak RRR','NO OF VALVES','COMP RATIO','KW','TORQUE','DRIVEN WHEEL']]"
   ]
  },
  {
   "cell_type": "code",
   "execution_count": 356,
   "metadata": {
    "scrolled": true
   },
   "outputs": [
    {
     "name": "stdout",
     "output_type": "stream",
     "text": [
      "<class 'pandas.core.frame.DataFrame'>\n",
      "RangeIndex: 18 entries, 0 to 17\n",
      "Data columns (total 13 columns):\n",
      "COUNTRY OF ORIGIN          18 non-null object\n",
      "YEAR                       18 non-null int64\n",
      "MANUFACTURED               18 non-null int64\n",
      "MAKE                       18 non-null object\n",
      "CC                         18 non-null int64\n",
      "CYL                        18 non-null object\n",
      "Peninsular Malaysia RRR    18 non-null int64\n",
      "Sabah & Sarawak RRR        16 non-null float64\n",
      "NO OF VALVES               18 non-null int64\n",
      "COMP RATIO                 18 non-null float64\n",
      "KW                         18 non-null int64\n",
      "TORQUE                     18 non-null int64\n",
      "DRIVEN WHEEL               18 non-null object\n",
      "dtypes: float64(2), int64(7), object(4)\n",
      "memory usage: 1.9+ KB\n"
     ]
    }
   ],
   "source": [
    "df.info()"
   ]
  },
  {
   "cell_type": "code",
   "execution_count": 357,
   "metadata": {
    "scrolled": true
   },
   "outputs": [
    {
     "data": {
      "text/html": [
       "<div>\n",
       "<style scoped>\n",
       "    .dataframe tbody tr th:only-of-type {\n",
       "        vertical-align: middle;\n",
       "    }\n",
       "\n",
       "    .dataframe tbody tr th {\n",
       "        vertical-align: top;\n",
       "    }\n",
       "\n",
       "    .dataframe thead th {\n",
       "        text-align: right;\n",
       "    }\n",
       "</style>\n",
       "<table border=\"1\" class=\"dataframe\">\n",
       "  <thead>\n",
       "    <tr style=\"text-align: right;\">\n",
       "      <th></th>\n",
       "      <th>COUNTRY OF ORIGIN</th>\n",
       "      <th>YEAR</th>\n",
       "      <th>MANUFACTURED</th>\n",
       "      <th>MAKE</th>\n",
       "      <th>CC</th>\n",
       "      <th>CYL</th>\n",
       "      <th>Peninsular Malaysia RRR</th>\n",
       "      <th>Sabah &amp; Sarawak RRR</th>\n",
       "      <th>NO OF VALVES</th>\n",
       "      <th>COMP RATIO</th>\n",
       "      <th>KW</th>\n",
       "      <th>TORQUE</th>\n",
       "      <th>DRIVEN WHEEL</th>\n",
       "    </tr>\n",
       "  </thead>\n",
       "  <tbody>\n",
       "    <tr>\n",
       "      <th>0</th>\n",
       "      <td>MALAYSIA</td>\n",
       "      <td>2013</td>\n",
       "      <td>2010</td>\n",
       "      <td>HONDA</td>\n",
       "      <td>2354</td>\n",
       "      <td>4</td>\n",
       "      <td>74500</td>\n",
       "      <td>82100.0</td>\n",
       "      <td>16</td>\n",
       "      <td>10.5</td>\n",
       "      <td>133</td>\n",
       "      <td>222</td>\n",
       "      <td>FRONT WHEEL DRIVE</td>\n",
       "    </tr>\n",
       "    <tr>\n",
       "      <th>2</th>\n",
       "      <td>MALAYSIA</td>\n",
       "      <td>2008</td>\n",
       "      <td>2008</td>\n",
       "      <td>HONDA</td>\n",
       "      <td>1497</td>\n",
       "      <td>4</td>\n",
       "      <td>30000</td>\n",
       "      <td>34300.0</td>\n",
       "      <td>16</td>\n",
       "      <td>10.4</td>\n",
       "      <td>88</td>\n",
       "      <td>145</td>\n",
       "      <td>FRONT WHEEL DRIVE</td>\n",
       "    </tr>\n",
       "    <tr>\n",
       "      <th>4</th>\n",
       "      <td>MALAYSIA</td>\n",
       "      <td>2014</td>\n",
       "      <td>2014</td>\n",
       "      <td>PERODUA</td>\n",
       "      <td>998</td>\n",
       "      <td>3</td>\n",
       "      <td>14900</td>\n",
       "      <td>16300.0</td>\n",
       "      <td>12</td>\n",
       "      <td>11.0</td>\n",
       "      <td>49</td>\n",
       "      <td>90</td>\n",
       "      <td>FRONT WHEEL DRIVE</td>\n",
       "    </tr>\n",
       "    <tr>\n",
       "      <th>5</th>\n",
       "      <td>MALAYSIA</td>\n",
       "      <td>2001</td>\n",
       "      <td>2001</td>\n",
       "      <td>PERODUA</td>\n",
       "      <td>989</td>\n",
       "      <td>3</td>\n",
       "      <td>8200</td>\n",
       "      <td>9800.0</td>\n",
       "      <td>12</td>\n",
       "      <td>9.5</td>\n",
       "      <td>55</td>\n",
       "      <td>88</td>\n",
       "      <td>FRONT WHEEL DRIVE</td>\n",
       "    </tr>\n",
       "    <tr>\n",
       "      <th>6</th>\n",
       "      <td>MALAYSIA</td>\n",
       "      <td>2002</td>\n",
       "      <td>2001</td>\n",
       "      <td>PERODUA</td>\n",
       "      <td>989</td>\n",
       "      <td>3</td>\n",
       "      <td>8800</td>\n",
       "      <td>10400.0</td>\n",
       "      <td>12</td>\n",
       "      <td>9.5</td>\n",
       "      <td>55</td>\n",
       "      <td>88</td>\n",
       "      <td>FRONT WHEEL DRIVE</td>\n",
       "    </tr>\n",
       "    <tr>\n",
       "      <th>7</th>\n",
       "      <td>ITALY</td>\n",
       "      <td>2011</td>\n",
       "      <td>2009</td>\n",
       "      <td>ALFA ROMEO</td>\n",
       "      <td>2198</td>\n",
       "      <td>4</td>\n",
       "      <td>52900</td>\n",
       "      <td>59300.0</td>\n",
       "      <td>16</td>\n",
       "      <td>11.3</td>\n",
       "      <td>136</td>\n",
       "      <td>230</td>\n",
       "      <td>FRONT WHEEL DRIVE</td>\n",
       "    </tr>\n",
       "    <tr>\n",
       "      <th>8</th>\n",
       "      <td>ITALY</td>\n",
       "      <td>2012</td>\n",
       "      <td>2009</td>\n",
       "      <td>ALFA ROMEO</td>\n",
       "      <td>2198</td>\n",
       "      <td>4</td>\n",
       "      <td>57100</td>\n",
       "      <td>63400.0</td>\n",
       "      <td>16</td>\n",
       "      <td>11.3</td>\n",
       "      <td>136</td>\n",
       "      <td>230</td>\n",
       "      <td>FRONT WHEEL DRIVE</td>\n",
       "    </tr>\n",
       "    <tr>\n",
       "      <th>9</th>\n",
       "      <td>ITALY</td>\n",
       "      <td>2013</td>\n",
       "      <td>2009</td>\n",
       "      <td>ALFA ROMEO</td>\n",
       "      <td>2198</td>\n",
       "      <td>4</td>\n",
       "      <td>63100</td>\n",
       "      <td>69600.0</td>\n",
       "      <td>16</td>\n",
       "      <td>11.3</td>\n",
       "      <td>136</td>\n",
       "      <td>230</td>\n",
       "      <td>FRONT WHEEL DRIVE</td>\n",
       "    </tr>\n",
       "    <tr>\n",
       "      <th>10</th>\n",
       "      <td>ITALY</td>\n",
       "      <td>2014</td>\n",
       "      <td>2009</td>\n",
       "      <td>ALFA ROMEO</td>\n",
       "      <td>2198</td>\n",
       "      <td>4</td>\n",
       "      <td>67400</td>\n",
       "      <td>73500.0</td>\n",
       "      <td>16</td>\n",
       "      <td>11.3</td>\n",
       "      <td>136</td>\n",
       "      <td>230</td>\n",
       "      <td>FRONT WHEEL DRIVE</td>\n",
       "    </tr>\n",
       "    <tr>\n",
       "      <th>11</th>\n",
       "      <td>MALAYSIA</td>\n",
       "      <td>2007</td>\n",
       "      <td>2006</td>\n",
       "      <td>BMW</td>\n",
       "      <td>2497</td>\n",
       "      <td>6</td>\n",
       "      <td>49000</td>\n",
       "      <td>57100.0</td>\n",
       "      <td>24</td>\n",
       "      <td>11.0</td>\n",
       "      <td>160</td>\n",
       "      <td>250</td>\n",
       "      <td>REAR WHEEL DRIVE</td>\n",
       "    </tr>\n",
       "    <tr>\n",
       "      <th>12</th>\n",
       "      <td>MALAYSIA</td>\n",
       "      <td>2008</td>\n",
       "      <td>2006</td>\n",
       "      <td>BMW</td>\n",
       "      <td>2497</td>\n",
       "      <td>6</td>\n",
       "      <td>51600</td>\n",
       "      <td>59500.0</td>\n",
       "      <td>24</td>\n",
       "      <td>11.0</td>\n",
       "      <td>160</td>\n",
       "      <td>250</td>\n",
       "      <td>REAR WHEEL DRIVE</td>\n",
       "    </tr>\n",
       "    <tr>\n",
       "      <th>13</th>\n",
       "      <td>MALAYSIA</td>\n",
       "      <td>2004</td>\n",
       "      <td>2004</td>\n",
       "      <td>BMW</td>\n",
       "      <td>2494</td>\n",
       "      <td>6</td>\n",
       "      <td>25900</td>\n",
       "      <td>31000.0</td>\n",
       "      <td>24</td>\n",
       "      <td>10.5</td>\n",
       "      <td>141</td>\n",
       "      <td>245</td>\n",
       "      <td>REAR WHEEL DRIVE</td>\n",
       "    </tr>\n",
       "    <tr>\n",
       "      <th>14</th>\n",
       "      <td>MALAYSIA</td>\n",
       "      <td>2005</td>\n",
       "      <td>2004</td>\n",
       "      <td>BMW</td>\n",
       "      <td>2494</td>\n",
       "      <td>6</td>\n",
       "      <td>27000</td>\n",
       "      <td>32000.0</td>\n",
       "      <td>24</td>\n",
       "      <td>10.5</td>\n",
       "      <td>141</td>\n",
       "      <td>245</td>\n",
       "      <td>REAR WHEEL DRIVE</td>\n",
       "    </tr>\n",
       "    <tr>\n",
       "      <th>15</th>\n",
       "      <td>GERMANY</td>\n",
       "      <td>2014</td>\n",
       "      <td>2014</td>\n",
       "      <td>AUDI</td>\n",
       "      <td>2995</td>\n",
       "      <td>TV6</td>\n",
       "      <td>240800</td>\n",
       "      <td>265800.0</td>\n",
       "      <td>24</td>\n",
       "      <td>10.3</td>\n",
       "      <td>228</td>\n",
       "      <td>440</td>\n",
       "      <td>ALL WHEEL DRIVE</td>\n",
       "    </tr>\n",
       "    <tr>\n",
       "      <th>16</th>\n",
       "      <td>GERMANY</td>\n",
       "      <td>2015</td>\n",
       "      <td>2014</td>\n",
       "      <td>AUDI</td>\n",
       "      <td>2995</td>\n",
       "      <td>TV6</td>\n",
       "      <td>269400</td>\n",
       "      <td>297300.0</td>\n",
       "      <td>24</td>\n",
       "      <td>10.3</td>\n",
       "      <td>228</td>\n",
       "      <td>440</td>\n",
       "      <td>ALL WHEEL DRIVE</td>\n",
       "    </tr>\n",
       "    <tr>\n",
       "      <th>17</th>\n",
       "      <td>GERMANY</td>\n",
       "      <td>2016</td>\n",
       "      <td>2014</td>\n",
       "      <td>AUDI</td>\n",
       "      <td>2995</td>\n",
       "      <td>TV6</td>\n",
       "      <td>329200</td>\n",
       "      <td>359900.0</td>\n",
       "      <td>24</td>\n",
       "      <td>10.3</td>\n",
       "      <td>228</td>\n",
       "      <td>440</td>\n",
       "      <td>ALL WHEEL DRIVE</td>\n",
       "    </tr>\n",
       "  </tbody>\n",
       "</table>\n",
       "</div>"
      ],
      "text/plain": [
       "   COUNTRY OF ORIGIN  YEAR  MANUFACTURED        MAKE    CC  CYL  \\\n",
       "0           MALAYSIA  2013          2010       HONDA  2354    4   \n",
       "2           MALAYSIA  2008          2008       HONDA  1497    4   \n",
       "4           MALAYSIA  2014          2014     PERODUA   998    3   \n",
       "5           MALAYSIA  2001          2001     PERODUA   989    3   \n",
       "6           MALAYSIA  2002          2001     PERODUA   989    3   \n",
       "7              ITALY  2011          2009  ALFA ROMEO  2198    4   \n",
       "8              ITALY  2012          2009  ALFA ROMEO  2198    4   \n",
       "9              ITALY  2013          2009  ALFA ROMEO  2198    4   \n",
       "10             ITALY  2014          2009  ALFA ROMEO  2198    4   \n",
       "11          MALAYSIA  2007          2006         BMW  2497    6   \n",
       "12          MALAYSIA  2008          2006         BMW  2497    6   \n",
       "13          MALAYSIA  2004          2004         BMW  2494    6   \n",
       "14          MALAYSIA  2005          2004         BMW  2494    6   \n",
       "15           GERMANY  2014          2014        AUDI  2995  TV6   \n",
       "16           GERMANY  2015          2014        AUDI  2995  TV6   \n",
       "17           GERMANY  2016          2014        AUDI  2995  TV6   \n",
       "\n",
       "    Peninsular Malaysia RRR  Sabah & Sarawak RRR  NO OF VALVES  COMP RATIO  \\\n",
       "0                     74500              82100.0            16        10.5   \n",
       "2                     30000              34300.0            16        10.4   \n",
       "4                     14900              16300.0            12        11.0   \n",
       "5                      8200               9800.0            12         9.5   \n",
       "6                      8800              10400.0            12         9.5   \n",
       "7                     52900              59300.0            16        11.3   \n",
       "8                     57100              63400.0            16        11.3   \n",
       "9                     63100              69600.0            16        11.3   \n",
       "10                    67400              73500.0            16        11.3   \n",
       "11                    49000              57100.0            24        11.0   \n",
       "12                    51600              59500.0            24        11.0   \n",
       "13                    25900              31000.0            24        10.5   \n",
       "14                    27000              32000.0            24        10.5   \n",
       "15                   240800             265800.0            24        10.3   \n",
       "16                   269400             297300.0            24        10.3   \n",
       "17                   329200             359900.0            24        10.3   \n",
       "\n",
       "     KW  TORQUE       DRIVEN WHEEL  \n",
       "0   133     222  FRONT WHEEL DRIVE  \n",
       "2    88     145  FRONT WHEEL DRIVE  \n",
       "4    49      90  FRONT WHEEL DRIVE  \n",
       "5    55      88  FRONT WHEEL DRIVE  \n",
       "6    55      88  FRONT WHEEL DRIVE  \n",
       "7   136     230  FRONT WHEEL DRIVE  \n",
       "8   136     230  FRONT WHEEL DRIVE  \n",
       "9   136     230  FRONT WHEEL DRIVE  \n",
       "10  136     230  FRONT WHEEL DRIVE  \n",
       "11  160     250   REAR WHEEL DRIVE  \n",
       "12  160     250   REAR WHEEL DRIVE  \n",
       "13  141     245   REAR WHEEL DRIVE  \n",
       "14  141     245   REAR WHEEL DRIVE  \n",
       "15  228     440    ALL WHEEL DRIVE  \n",
       "16  228     440    ALL WHEEL DRIVE  \n",
       "17  228     440    ALL WHEEL DRIVE  "
      ]
     },
     "execution_count": 357,
     "metadata": {},
     "output_type": "execute_result"
    }
   ],
   "source": [
    "df = df.dropna()\n",
    "df"
   ]
  },
  {
   "cell_type": "code",
   "execution_count": 358,
   "metadata": {
    "scrolled": true
   },
   "outputs": [
    {
     "data": {
      "text/plain": [
       "COUNTRY OF ORIGIN          False\n",
       "YEAR                       False\n",
       "MANUFACTURED               False\n",
       "MAKE                       False\n",
       "CC                         False\n",
       "CYL                        False\n",
       "Peninsular Malaysia RRR    False\n",
       "Sabah & Sarawak RRR        False\n",
       "NO OF VALVES               False\n",
       "COMP RATIO                 False\n",
       "KW                         False\n",
       "TORQUE                     False\n",
       "DRIVEN WHEEL               False\n",
       "dtype: bool"
      ]
     },
     "execution_count": 358,
     "metadata": {},
     "output_type": "execute_result"
    }
   ],
   "source": [
    "df.isnull().any()"
   ]
  },
  {
   "cell_type": "markdown",
   "metadata": {},
   "source": [
    "# ASSUMING WE KNOW Peninsular Malaysia New Price"
   ]
  },
  {
   "cell_type": "markdown",
   "metadata": {},
   "source": [
    "### Predict Peninsular Malaysia Recommend Retail Rate"
   ]
  },
  {
   "cell_type": "code",
   "execution_count": 421,
   "metadata": {},
   "outputs": [
    {
     "name": "stdout",
     "output_type": "stream",
     "text": [
      "(16, 24)\n"
     ]
    }
   ],
   "source": [
    "PMRRR = pd.get_dummies(df)\n",
    "print(PMRRR.shape)"
   ]
  },
  {
   "cell_type": "raw",
   "metadata": {},
   "source": [
    "import statsmodels.formula.api as sm"
   ]
  },
  {
   "cell_type": "raw",
   "metadata": {},
   "source": [
    "def vif_cal(input_data, dependent_col):\n",
    "    x_vars=input_data.drop([dependent_col], axis=1)\n",
    "    xvar_names=x_vars.columns\n",
    "    for i in range(0,xvar_names.shape[0]):\n",
    "        y=x_vars[xvar_names[i]] \n",
    "        x=x_vars[xvar_names.drop(xvar_names[i])]\n",
    "        rsq=sm.ols(formula=\"y~x\", data=x_vars).fit().rsquared  \n",
    "        vif=round(1/(1-rsq),2)\n",
    "        print (xvar_names[i], \" VIF = \" , vif)"
   ]
  },
  {
   "cell_type": "raw",
   "metadata": {},
   "source": [
    "vif_cal(input_data=PMRRR, dependent_col='Peninsular Malaysia RRR')"
   ]
  },
  {
   "cell_type": "code",
   "execution_count": 426,
   "metadata": {},
   "outputs": [],
   "source": [
    "from sklearn.model_selection import train_test_split\n",
    "y = PMRRR['Peninsular Malaysia RRR']\n",
    "X = PMRRR[PMRRR.columns.difference(['Peninsular Malaysia RRR','Sabah & Sarawak RRR'])]"
   ]
  },
  {
   "cell_type": "code",
   "execution_count": 416,
   "metadata": {},
   "outputs": [],
   "source": [
    "def min_max_normalized(data):\n",
    "    col_max = np.max(data, axis=0)\n",
    "    col_min = np.min(data, axis=0)\n",
    "    return np.divide(data - col_min, col_max - col_min)"
   ]
  },
  {
   "cell_type": "code",
   "execution_count": 417,
   "metadata": {},
   "outputs": [],
   "source": [
    "X = min_max_normalized(X)"
   ]
  },
  {
   "cell_type": "code",
   "execution_count": 418,
   "metadata": {},
   "outputs": [],
   "source": [
    "X = X.dropna(axis=1)"
   ]
  },
  {
   "cell_type": "code",
   "execution_count": 430,
   "metadata": {},
   "outputs": [
    {
     "data": {
      "text/html": [
       "<div>\n",
       "<style scoped>\n",
       "    .dataframe tbody tr th:only-of-type {\n",
       "        vertical-align: middle;\n",
       "    }\n",
       "\n",
       "    .dataframe tbody tr th {\n",
       "        vertical-align: top;\n",
       "    }\n",
       "\n",
       "    .dataframe thead th {\n",
       "        text-align: right;\n",
       "    }\n",
       "</style>\n",
       "<table border=\"1\" class=\"dataframe\">\n",
       "  <thead>\n",
       "    <tr style=\"text-align: right;\">\n",
       "      <th></th>\n",
       "      <th>YEAR</th>\n",
       "      <th>MANUFACTURED</th>\n",
       "      <th>CC</th>\n",
       "      <th>Peninsular Malaysia RRR</th>\n",
       "      <th>Sabah &amp; Sarawak RRR</th>\n",
       "      <th>NO OF VALVES</th>\n",
       "      <th>COMP RATIO</th>\n",
       "      <th>KW</th>\n",
       "      <th>TORQUE</th>\n",
       "    </tr>\n",
       "  </thead>\n",
       "  <tbody>\n",
       "    <tr>\n",
       "      <th>YEAR</th>\n",
       "      <td>1.000000</td>\n",
       "      <td>0.949068</td>\n",
       "      <td>0.492124</td>\n",
       "      <td>0.646509</td>\n",
       "      <td>0.642830</td>\n",
       "      <td>0.143318</td>\n",
       "      <td>0.514692</td>\n",
       "      <td>0.555496</td>\n",
       "      <td>0.586225</td>\n",
       "    </tr>\n",
       "    <tr>\n",
       "      <th>MANUFACTURED</th>\n",
       "      <td>0.949068</td>\n",
       "      <td>1.000000</td>\n",
       "      <td>0.462264</td>\n",
       "      <td>0.706009</td>\n",
       "      <td>0.703612</td>\n",
       "      <td>0.209597</td>\n",
       "      <td>0.364071</td>\n",
       "      <td>0.559705</td>\n",
       "      <td>0.615813</td>\n",
       "    </tr>\n",
       "    <tr>\n",
       "      <th>CC</th>\n",
       "      <td>0.492124</td>\n",
       "      <td>0.462264</td>\n",
       "      <td>1.000000</td>\n",
       "      <td>0.694751</td>\n",
       "      <td>0.699491</td>\n",
       "      <td>0.865615</td>\n",
       "      <td>0.293138</td>\n",
       "      <td>0.963347</td>\n",
       "      <td>0.924441</td>\n",
       "    </tr>\n",
       "    <tr>\n",
       "      <th>Peninsular Malaysia RRR</th>\n",
       "      <td>0.646509</td>\n",
       "      <td>0.706009</td>\n",
       "      <td>0.694751</td>\n",
       "      <td>1.000000</td>\n",
       "      <td>0.999939</td>\n",
       "      <td>0.540677</td>\n",
       "      <td>-0.123682</td>\n",
       "      <td>0.844305</td>\n",
       "      <td>0.903746</td>\n",
       "    </tr>\n",
       "    <tr>\n",
       "      <th>Sabah &amp; Sarawak RRR</th>\n",
       "      <td>0.642830</td>\n",
       "      <td>0.703612</td>\n",
       "      <td>0.699491</td>\n",
       "      <td>0.999939</td>\n",
       "      <td>1.000000</td>\n",
       "      <td>0.548374</td>\n",
       "      <td>-0.123821</td>\n",
       "      <td>0.848370</td>\n",
       "      <td>0.907014</td>\n",
       "    </tr>\n",
       "    <tr>\n",
       "      <th>NO OF VALVES</th>\n",
       "      <td>0.143318</td>\n",
       "      <td>0.209597</td>\n",
       "      <td>0.865615</td>\n",
       "      <td>0.540677</td>\n",
       "      <td>0.548374</td>\n",
       "      <td>1.000000</td>\n",
       "      <td>0.083869</td>\n",
       "      <td>0.829438</td>\n",
       "      <td>0.786972</td>\n",
       "    </tr>\n",
       "    <tr>\n",
       "      <th>COMP RATIO</th>\n",
       "      <td>0.514692</td>\n",
       "      <td>0.364071</td>\n",
       "      <td>0.293138</td>\n",
       "      <td>-0.123682</td>\n",
       "      <td>-0.123821</td>\n",
       "      <td>0.083869</td>\n",
       "      <td>1.000000</td>\n",
       "      <td>0.173278</td>\n",
       "      <td>0.092201</td>\n",
       "    </tr>\n",
       "    <tr>\n",
       "      <th>KW</th>\n",
       "      <td>0.555496</td>\n",
       "      <td>0.559705</td>\n",
       "      <td>0.963347</td>\n",
       "      <td>0.844305</td>\n",
       "      <td>0.848370</td>\n",
       "      <td>0.829438</td>\n",
       "      <td>0.173278</td>\n",
       "      <td>1.000000</td>\n",
       "      <td>0.987650</td>\n",
       "    </tr>\n",
       "    <tr>\n",
       "      <th>TORQUE</th>\n",
       "      <td>0.586225</td>\n",
       "      <td>0.615813</td>\n",
       "      <td>0.924441</td>\n",
       "      <td>0.903746</td>\n",
       "      <td>0.907014</td>\n",
       "      <td>0.786972</td>\n",
       "      <td>0.092201</td>\n",
       "      <td>0.987650</td>\n",
       "      <td>1.000000</td>\n",
       "    </tr>\n",
       "  </tbody>\n",
       "</table>\n",
       "</div>"
      ],
      "text/plain": [
       "                             YEAR  MANUFACTURED        CC  \\\n",
       "YEAR                     1.000000      0.949068  0.492124   \n",
       "MANUFACTURED             0.949068      1.000000  0.462264   \n",
       "CC                       0.492124      0.462264  1.000000   \n",
       "Peninsular Malaysia RRR  0.646509      0.706009  0.694751   \n",
       "Sabah & Sarawak RRR      0.642830      0.703612  0.699491   \n",
       "NO OF VALVES             0.143318      0.209597  0.865615   \n",
       "COMP RATIO               0.514692      0.364071  0.293138   \n",
       "KW                       0.555496      0.559705  0.963347   \n",
       "TORQUE                   0.586225      0.615813  0.924441   \n",
       "\n",
       "                         Peninsular Malaysia RRR  Sabah & Sarawak RRR  \\\n",
       "YEAR                                    0.646509             0.642830   \n",
       "MANUFACTURED                            0.706009             0.703612   \n",
       "CC                                      0.694751             0.699491   \n",
       "Peninsular Malaysia RRR                 1.000000             0.999939   \n",
       "Sabah & Sarawak RRR                     0.999939             1.000000   \n",
       "NO OF VALVES                            0.540677             0.548374   \n",
       "COMP RATIO                             -0.123682            -0.123821   \n",
       "KW                                      0.844305             0.848370   \n",
       "TORQUE                                  0.903746             0.907014   \n",
       "\n",
       "                         NO OF VALVES  COMP RATIO        KW    TORQUE  \n",
       "YEAR                         0.143318    0.514692  0.555496  0.586225  \n",
       "MANUFACTURED                 0.209597    0.364071  0.559705  0.615813  \n",
       "CC                           0.865615    0.293138  0.963347  0.924441  \n",
       "Peninsular Malaysia RRR      0.540677   -0.123682  0.844305  0.903746  \n",
       "Sabah & Sarawak RRR          0.548374   -0.123821  0.848370  0.907014  \n",
       "NO OF VALVES                 1.000000    0.083869  0.829438  0.786972  \n",
       "COMP RATIO                   0.083869    1.000000  0.173278  0.092201  \n",
       "KW                           0.829438    0.173278  1.000000  0.987650  \n",
       "TORQUE                       0.786972    0.092201  0.987650  1.000000  "
      ]
     },
     "execution_count": 430,
     "metadata": {},
     "output_type": "execute_result"
    }
   ],
   "source": [
    "df.corr()"
   ]
  },
  {
   "cell_type": "code",
   "execution_count": 428,
   "metadata": {},
   "outputs": [
    {
     "data": {
      "text/plain": [
       "[inf,\n",
       " inf,\n",
       " inf,\n",
       " inf,\n",
       " inf,\n",
       " inf,\n",
       " inf,\n",
       " inf,\n",
       " inf,\n",
       " inf,\n",
       " inf,\n",
       " inf,\n",
       " inf,\n",
       " inf,\n",
       " inf,\n",
       " inf,\n",
       " inf,\n",
       " inf,\n",
       " inf,\n",
       " inf,\n",
       " inf,\n",
       " 41.698529411764646]"
      ]
     },
     "execution_count": 428,
     "metadata": {},
     "output_type": "execute_result"
    }
   ],
   "source": [
    "vif"
   ]
  },
  {
   "cell_type": "code",
   "execution_count": 364,
   "metadata": {},
   "outputs": [],
   "source": [
    "X_train, X_test, y_train, y_test = train_test_split (X, y, test_size=0.2, random_state=42)"
   ]
  },
  {
   "cell_type": "code",
   "execution_count": 365,
   "metadata": {},
   "outputs": [
    {
     "name": "stdout",
     "output_type": "stream",
     "text": [
      "LinearRegression(copy_X=True, fit_intercept=True, n_jobs=None, normalize=False)\n"
     ]
    }
   ],
   "source": [
    "from sklearn.linear_model import LinearRegression\n",
    "lm = LinearRegression()\n",
    "lm.fit(X_train,y_train)\n",
    "print(lm)"
   ]
  },
  {
   "cell_type": "code",
   "execution_count": 366,
   "metadata": {},
   "outputs": [],
   "source": [
    "predictions = lm.predict(X_test)\n",
    "predictions= predictions.reshape(-1,1)"
   ]
  },
  {
   "cell_type": "code",
   "execution_count": 367,
   "metadata": {},
   "outputs": [
    {
     "name": "stdout",
     "output_type": "stream",
     "text": [
      "MAE: 8.972354593719873e+17\n",
      "MSE: 1.8278575348406834e+36\n",
      "RMSE: 1.3519828160301015e+18\n"
     ]
    }
   ],
   "source": [
    "from sklearn import metrics\n",
    "print ('MAE:', metrics.mean_absolute_error(y_test, predictions))\n",
    "print('MSE:', metrics.mean_squared_error(y_test, predictions))\n",
    "print('RMSE:', np.sqrt(metrics.mean_squared_error(y_test, predictions)))"
   ]
  },
  {
   "cell_type": "code",
   "execution_count": 368,
   "metadata": {},
   "outputs": [
    {
     "name": "stdout",
     "output_type": "stream",
     "text": [
      "[[-1.13447911e+18]\n",
      " [-2.45446273e+18]\n",
      " [ 2.66240000e+04]\n",
      " [ 2.83648000e+05]]\n"
     ]
    }
   ],
   "source": [
    "print(predictions)"
   ]
  },
  {
   "cell_type": "code",
   "execution_count": 369,
   "metadata": {},
   "outputs": [
    {
     "name": "stdout",
     "output_type": "stream",
     "text": [
      "0      74500\n",
      "2      30000\n",
      "7      52900\n",
      "16    269400\n",
      "Name: Peninsular Malaysia RRR, dtype: int64\n"
     ]
    }
   ],
   "source": [
    "print(y_test)"
   ]
  },
  {
   "cell_type": "code",
   "execution_count": 370,
   "metadata": {},
   "outputs": [],
   "source": [
    "rf_model = RandomForestRegressor()"
   ]
  },
  {
   "cell_type": "code",
   "execution_count": 38,
   "metadata": {},
   "outputs": [
    {
     "name": "stdout",
     "output_type": "stream",
     "text": [
      "{'n_estimators': [200, 400, 600, 800, 1000, 1200, 1400, 1600, 1800, 2000], 'max_features': ['auto', 'sqrt'], 'max_depth': [10, 20, 30, 40, 50, 60, 70, 80, 90, 100, 110, None], 'min_samples_split': [2, 5, 10], 'min_samples_leaf': [1, 2, 4], 'bootstrap': [True, False]}\n"
     ]
    }
   ],
   "source": [
    "from sklearn.model_selection import RandomizedSearchCV\n",
    "\n",
    "n_estimators = [int(x) for x in np.linspace(start = 200, stop = 2000, num = 10)]\n",
    "max_features = ['auto', 'sqrt']\n",
    "max_depth = [int(x) for x in np.linspace(10, 110, num = 11)]\n",
    "max_depth.append(None)\n",
    "min_samples_split = [2, 5, 10]\n",
    "min_samples_leaf = [1, 2, 4]\n",
    "bootstrap = [True, False]\n",
    "\n",
    "\n",
    "# Create the random grid\n",
    "random_grid = {'n_estimators': n_estimators,\n",
    "               'max_features': max_features,\n",
    "               'max_depth': max_depth,\n",
    "               'min_samples_split': min_samples_split,\n",
    "               'min_samples_leaf': min_samples_leaf,\n",
    "               'bootstrap': bootstrap}\n",
    "\n",
    "print(random_grid)"
   ]
  },
  {
   "cell_type": "code",
   "execution_count": 311,
   "metadata": {},
   "outputs": [
    {
     "name": "stdout",
     "output_type": "stream",
     "text": [
      "Fitting 10 folds for each of 100 candidates, totalling 1000 fits\n"
     ]
    },
    {
     "name": "stderr",
     "output_type": "stream",
     "text": [
      "[Parallel(n_jobs=-1)]: Using backend LokyBackend with 8 concurrent workers.\n",
      "[Parallel(n_jobs=-1)]: Done  25 tasks      | elapsed:    5.9s\n",
      "[Parallel(n_jobs=-1)]: Done 146 tasks      | elapsed:   22.5s\n",
      "[Parallel(n_jobs=-1)]: Done 349 tasks      | elapsed:   56.6s\n",
      "[Parallel(n_jobs=-1)]: Done 632 tasks      | elapsed:  1.6min\n",
      "[Parallel(n_jobs=-1)]: Done 1000 out of 1000 | elapsed:  2.6min finished\n",
      "C:\\Users\\seeming.tan\\AppData\\Local\\Continuum\\anaconda3\\envs\\tensorflow-keras\\lib\\site-packages\\sklearn\\model_selection\\_search.py:813: DeprecationWarning: The default of the `iid` parameter will change from True to False in version 0.22 and will be removed in 0.24. This will change numeric results when test-set sizes are unequal.\n",
      "  DeprecationWarning)\n"
     ]
    },
    {
     "data": {
      "text/plain": [
       "RandomizedSearchCV(cv=10, error_score='raise-deprecating',\n",
       "                   estimator=RandomForestRegressor(bootstrap=True,\n",
       "                                                   criterion='mse',\n",
       "                                                   max_depth=None,\n",
       "                                                   max_features='auto',\n",
       "                                                   max_leaf_nodes=None,\n",
       "                                                   min_impurity_decrease=0.0,\n",
       "                                                   min_impurity_split=None,\n",
       "                                                   min_samples_leaf=1,\n",
       "                                                   min_samples_split=2,\n",
       "                                                   min_weight_fraction_leaf=0.0,\n",
       "                                                   n_estimators='warn',\n",
       "                                                   n_jobs=None, oob_score=False,\n",
       "                                                   random_st...\n",
       "                   param_distributions={'bootstrap': [True, False],\n",
       "                                        'max_depth': [10, 20, 30, 40, 50, 60,\n",
       "                                                      70, 80, 90, 100, 110,\n",
       "                                                      None],\n",
       "                                        'max_features': ['auto', 'sqrt'],\n",
       "                                        'min_samples_leaf': [1, 2, 4],\n",
       "                                        'min_samples_split': [2, 5, 10],\n",
       "                                        'n_estimators': [200, 400, 600, 800,\n",
       "                                                         1000, 1200, 1400, 1600,\n",
       "                                                         1800, 2000]},\n",
       "                   pre_dispatch='2*n_jobs', random_state=42, refit=True,\n",
       "                   return_train_score=False, scoring=None, verbose=2)"
      ]
     },
     "execution_count": 311,
     "metadata": {},
     "output_type": "execute_result"
    }
   ],
   "source": [
    "rf = RandomForestRegressor()\n",
    "\n",
    "# Random search of parameters, using 3 fold cross validation, \n",
    "# search across 100 different combinations, and use all available cores\n",
    "rf_random = RandomizedSearchCV(estimator = rf, param_distributions = random_grid, n_iter = 100, cv = 10, verbose=2, random_state=42, n_jobs = -1)\n",
    "\n",
    "# Fit the random search model\n",
    "rf_random.fit(X_train, y_train)"
   ]
  },
  {
   "cell_type": "code",
   "execution_count": 312,
   "metadata": {},
   "outputs": [
    {
     "data": {
      "text/plain": [
       "{'n_estimators': 400,\n",
       " 'min_samples_split': 5,\n",
       " 'min_samples_leaf': 1,\n",
       " 'max_features': 'sqrt',\n",
       " 'max_depth': 30,\n",
       " 'bootstrap': True}"
      ]
     },
     "execution_count": 312,
     "metadata": {},
     "output_type": "execute_result"
    }
   ],
   "source": [
    "rf_random.best_params_"
   ]
  },
  {
   "cell_type": "code",
   "execution_count": 371,
   "metadata": {},
   "outputs": [],
   "source": [
    "rf_model = RandomForestRegressor(n_estimators= 400,\n",
    "                                 min_samples_split= 5,\n",
    "                                 min_samples_leaf= 1,\n",
    "                                 max_features= 'sqrt',\n",
    "                                 max_depth= 30,\n",
    "                                 bootstrap= True)\n",
    "\n",
    "rf_model.fit(X_train, y_train)\n",
    "predictions = rf_model.predict(X_test)\n",
    "predictions = predictions.reshape(-1,1)"
   ]
  },
  {
   "cell_type": "code",
   "execution_count": 372,
   "metadata": {},
   "outputs": [
    {
     "data": {
      "text/plain": [
       "array([[ 43662.24097222],\n",
       "       [ 39077.64345238],\n",
       "       [ 57423.36884921],\n",
       "       [240730.26954365]])"
      ]
     },
     "execution_count": 372,
     "metadata": {},
     "output_type": "execute_result"
    }
   ],
   "source": [
    "predictions"
   ]
  },
  {
   "cell_type": "code",
   "execution_count": 373,
   "metadata": {},
   "outputs": [
    {
     "data": {
      "text/plain": [
       "0      74500\n",
       "2      30000\n",
       "7      52900\n",
       "16    269400\n",
       "Name: Peninsular Malaysia RRR, dtype: int64"
      ]
     },
     "execution_count": 373,
     "metadata": {},
     "output_type": "execute_result"
    }
   ],
   "source": [
    "y_test"
   ]
  },
  {
   "cell_type": "code",
   "execution_count": 374,
   "metadata": {},
   "outputs": [
    {
     "name": "stdout",
     "output_type": "stream",
     "text": [
      "MAE: 18277.125446428545\n",
      "MSE: 468946325.6723814\n",
      "RMSE: 21655.16856716616\n"
     ]
    }
   ],
   "source": [
    "from sklearn import metrics\n",
    "print('MAE:', metrics.mean_absolute_error(y_test, predictions))\n",
    "print('MSE:', metrics.mean_squared_error(y_test, predictions))\n",
    "print('RMSE:', np.sqrt(metrics.mean_squared_error(y_test, predictions)))"
   ]
  },
  {
   "cell_type": "code",
   "execution_count": 375,
   "metadata": {},
   "outputs": [
    {
     "data": {
      "text/html": [
       "\n",
       "    <style>\n",
       "    table.eli5-weights tr:hover {\n",
       "        filter: brightness(85%);\n",
       "    }\n",
       "</style>\n",
       "\n",
       "\n",
       "\n",
       "    \n",
       "\n",
       "    \n",
       "\n",
       "    \n",
       "\n",
       "    \n",
       "\n",
       "    \n",
       "\n",
       "    \n",
       "\n",
       "\n",
       "    \n",
       "\n",
       "    \n",
       "\n",
       "    \n",
       "\n",
       "    \n",
       "\n",
       "    \n",
       "\n",
       "    \n",
       "\n",
       "\n",
       "    \n",
       "\n",
       "    \n",
       "\n",
       "    \n",
       "\n",
       "    \n",
       "\n",
       "    \n",
       "        <table class=\"eli5-weights eli5-feature-importances\" style=\"border-collapse: collapse; border: none; margin-top: 0em; table-layout: auto;\">\n",
       "    <thead>\n",
       "    <tr style=\"border: none;\">\n",
       "        <th style=\"padding: 0 1em 0 0.5em; text-align: right; border: none;\">Weight</th>\n",
       "        <th style=\"padding: 0 0.5em 0 0.5em; text-align: left; border: none;\">Feature</th>\n",
       "    </tr>\n",
       "    </thead>\n",
       "    <tbody>\n",
       "    \n",
       "        <tr style=\"background-color: hsl(120, 100.00%, 80.00%); border: none;\">\n",
       "            <td style=\"padding: 0 1em 0 0.5em; text-align: right; border: none;\">\n",
       "                0.0652\n",
       "                \n",
       "                    &plusmn; 0.0158\n",
       "                \n",
       "            </td>\n",
       "            <td style=\"padding: 0 0.5em 0 0.5em; text-align: left; border: none;\">\n",
       "                KW\n",
       "            </td>\n",
       "        </tr>\n",
       "    \n",
       "        <tr style=\"background-color: hsl(120, 100.00%, 81.30%); border: none;\">\n",
       "            <td style=\"padding: 0 1em 0 0.5em; text-align: right; border: none;\">\n",
       "                0.0592\n",
       "                \n",
       "                    &plusmn; 0.0117\n",
       "                \n",
       "            </td>\n",
       "            <td style=\"padding: 0 0.5em 0 0.5em; text-align: left; border: none;\">\n",
       "                CC\n",
       "            </td>\n",
       "        </tr>\n",
       "    \n",
       "        <tr style=\"background-color: hsl(120, 100.00%, 81.95%); border: none;\">\n",
       "            <td style=\"padding: 0 1em 0 0.5em; text-align: right; border: none;\">\n",
       "                0.0563\n",
       "                \n",
       "                    &plusmn; 0.0476\n",
       "                \n",
       "            </td>\n",
       "            <td style=\"padding: 0 0.5em 0 0.5em; text-align: left; border: none;\">\n",
       "                MAKE_AUDI\n",
       "            </td>\n",
       "        </tr>\n",
       "    \n",
       "        <tr style=\"background-color: hsl(120, 100.00%, 83.57%); border: none;\">\n",
       "            <td style=\"padding: 0 1em 0 0.5em; text-align: right; border: none;\">\n",
       "                0.0492\n",
       "                \n",
       "                    &plusmn; 0.0436\n",
       "                \n",
       "            </td>\n",
       "            <td style=\"padding: 0 0.5em 0 0.5em; text-align: left; border: none;\">\n",
       "                CYL_TV6\n",
       "            </td>\n",
       "        </tr>\n",
       "    \n",
       "        <tr style=\"background-color: hsl(120, 100.00%, 84.69%); border: none;\">\n",
       "            <td style=\"padding: 0 1em 0 0.5em; text-align: right; border: none;\">\n",
       "                0.0445\n",
       "                \n",
       "                    &plusmn; 0.0110\n",
       "                \n",
       "            </td>\n",
       "            <td style=\"padding: 0 0.5em 0 0.5em; text-align: left; border: none;\">\n",
       "                DRIVEN WHEEL_ALL WHEEL DRIVE\n",
       "            </td>\n",
       "        </tr>\n",
       "    \n",
       "        <tr style=\"background-color: hsl(120, 100.00%, 85.62%); border: none;\">\n",
       "            <td style=\"padding: 0 1em 0 0.5em; text-align: right; border: none;\">\n",
       "                0.0407\n",
       "                \n",
       "                    &plusmn; 0.0662\n",
       "                \n",
       "            </td>\n",
       "            <td style=\"padding: 0 0.5em 0 0.5em; text-align: left; border: none;\">\n",
       "                TORQUE\n",
       "            </td>\n",
       "        </tr>\n",
       "    \n",
       "        <tr style=\"background-color: hsl(120, 100.00%, 88.27%); border: none;\">\n",
       "            <td style=\"padding: 0 1em 0 0.5em; text-align: right; border: none;\">\n",
       "                0.0304\n",
       "                \n",
       "                    &plusmn; 0.0452\n",
       "                \n",
       "            </td>\n",
       "            <td style=\"padding: 0 0.5em 0 0.5em; text-align: left; border: none;\">\n",
       "                COUNTRY OF ORIGIN_GERMANY\n",
       "            </td>\n",
       "        </tr>\n",
       "    \n",
       "        <tr style=\"background-color: hsl(120, 100.00%, 89.43%); border: none;\">\n",
       "            <td style=\"padding: 0 1em 0 0.5em; text-align: right; border: none;\">\n",
       "                0.0262\n",
       "                \n",
       "                    &plusmn; 0.0064\n",
       "                \n",
       "            </td>\n",
       "            <td style=\"padding: 0 0.5em 0 0.5em; text-align: left; border: none;\">\n",
       "                MANUFACTURED\n",
       "            </td>\n",
       "        </tr>\n",
       "    \n",
       "        <tr style=\"background-color: hsl(120, 100.00%, 93.63%); border: none;\">\n",
       "            <td style=\"padding: 0 1em 0 0.5em; text-align: right; border: none;\">\n",
       "                0.0127\n",
       "                \n",
       "                    &plusmn; 0.0144\n",
       "                \n",
       "            </td>\n",
       "            <td style=\"padding: 0 0.5em 0 0.5em; text-align: left; border: none;\">\n",
       "                YEAR\n",
       "            </td>\n",
       "        </tr>\n",
       "    \n",
       "        <tr style=\"background-color: hsl(120, 100.00%, 96.25%); border: none;\">\n",
       "            <td style=\"padding: 0 1em 0 0.5em; text-align: right; border: none;\">\n",
       "                0.0060\n",
       "                \n",
       "                    &plusmn; 0.0038\n",
       "                \n",
       "            </td>\n",
       "            <td style=\"padding: 0 0.5em 0 0.5em; text-align: left; border: none;\">\n",
       "                COUNTRY OF ORIGIN_MALAYSIA\n",
       "            </td>\n",
       "        </tr>\n",
       "    \n",
       "        <tr style=\"background-color: hsl(120, 100.00%, 96.26%); border: none;\">\n",
       "            <td style=\"padding: 0 1em 0 0.5em; text-align: right; border: none;\">\n",
       "                0.0059\n",
       "                \n",
       "                    &plusmn; 0.0031\n",
       "                \n",
       "            </td>\n",
       "            <td style=\"padding: 0 0.5em 0 0.5em; text-align: left; border: none;\">\n",
       "                NO OF VALVES\n",
       "            </td>\n",
       "        </tr>\n",
       "    \n",
       "        <tr style=\"background-color: hsl(120, 100.00%, 96.35%); border: none;\">\n",
       "            <td style=\"padding: 0 1em 0 0.5em; text-align: right; border: none;\">\n",
       "                0.0057\n",
       "                \n",
       "                    &plusmn; 0.0078\n",
       "                \n",
       "            </td>\n",
       "            <td style=\"padding: 0 0.5em 0 0.5em; text-align: left; border: none;\">\n",
       "                COMP RATIO\n",
       "            </td>\n",
       "        </tr>\n",
       "    \n",
       "        <tr style=\"background-color: hsl(120, 100.00%, 96.86%); border: none;\">\n",
       "            <td style=\"padding: 0 1em 0 0.5em; text-align: right; border: none;\">\n",
       "                0.0046\n",
       "                \n",
       "                    &plusmn; 0.0018\n",
       "                \n",
       "            </td>\n",
       "            <td style=\"padding: 0 0.5em 0 0.5em; text-align: left; border: none;\">\n",
       "                CYL_3\n",
       "            </td>\n",
       "        </tr>\n",
       "    \n",
       "        <tr style=\"background-color: hsl(120, 100.00%, 98.43%); border: none;\">\n",
       "            <td style=\"padding: 0 1em 0 0.5em; text-align: right; border: none;\">\n",
       "                0.0017\n",
       "                \n",
       "                    &plusmn; 0.0024\n",
       "                \n",
       "            </td>\n",
       "            <td style=\"padding: 0 0.5em 0 0.5em; text-align: left; border: none;\">\n",
       "                MAKE_PERODUA\n",
       "            </td>\n",
       "        </tr>\n",
       "    \n",
       "        <tr style=\"background-color: hsl(120, 100.00%, 98.93%); border: none;\">\n",
       "            <td style=\"padding: 0 1em 0 0.5em; text-align: right; border: none;\">\n",
       "                0.0010\n",
       "                \n",
       "                    &plusmn; 0.0018\n",
       "                \n",
       "            </td>\n",
       "            <td style=\"padding: 0 0.5em 0 0.5em; text-align: left; border: none;\">\n",
       "                COUNTRY OF ORIGIN_ITALY\n",
       "            </td>\n",
       "        </tr>\n",
       "    \n",
       "        <tr style=\"background-color: hsl(120, 100.00%, 99.08%); border: none;\">\n",
       "            <td style=\"padding: 0 1em 0 0.5em; text-align: right; border: none;\">\n",
       "                0.0008\n",
       "                \n",
       "                    &plusmn; 0.0011\n",
       "                \n",
       "            </td>\n",
       "            <td style=\"padding: 0 0.5em 0 0.5em; text-align: left; border: none;\">\n",
       "                CYL_4\n",
       "            </td>\n",
       "        </tr>\n",
       "    \n",
       "        <tr style=\"background-color: hsl(120, 100.00%, 99.16%); border: none;\">\n",
       "            <td style=\"padding: 0 1em 0 0.5em; text-align: right; border: none;\">\n",
       "                0.0007\n",
       "                \n",
       "                    &plusmn; 0.0011\n",
       "                \n",
       "            </td>\n",
       "            <td style=\"padding: 0 0.5em 0 0.5em; text-align: left; border: none;\">\n",
       "                DRIVEN WHEEL_FRONT WHEEL DRIVE\n",
       "            </td>\n",
       "        </tr>\n",
       "    \n",
       "        <tr style=\"background-color: hsl(120, 100.00%, 99.29%); border: none;\">\n",
       "            <td style=\"padding: 0 1em 0 0.5em; text-align: right; border: none;\">\n",
       "                0.0006\n",
       "                \n",
       "                    &plusmn; 0.0006\n",
       "                \n",
       "            </td>\n",
       "            <td style=\"padding: 0 0.5em 0 0.5em; text-align: left; border: none;\">\n",
       "                MAKE_ALFA ROMEO\n",
       "            </td>\n",
       "        </tr>\n",
       "    \n",
       "        <tr style=\"background-color: hsl(120, 100.00%, 99.47%); border: none;\">\n",
       "            <td style=\"padding: 0 1em 0 0.5em; text-align: right; border: none;\">\n",
       "                0.0004\n",
       "                \n",
       "                    &plusmn; 0.0007\n",
       "                \n",
       "            </td>\n",
       "            <td style=\"padding: 0 0.5em 0 0.5em; text-align: left; border: none;\">\n",
       "                MAKE_BMW\n",
       "            </td>\n",
       "        </tr>\n",
       "    \n",
       "        <tr style=\"background-color: hsl(120, 100.00%, 99.53%); border: none;\">\n",
       "            <td style=\"padding: 0 1em 0 0.5em; text-align: right; border: none;\">\n",
       "                0.0003\n",
       "                \n",
       "                    &plusmn; 0.0002\n",
       "                \n",
       "            </td>\n",
       "            <td style=\"padding: 0 0.5em 0 0.5em; text-align: left; border: none;\">\n",
       "                DRIVEN WHEEL_REAR WHEEL DRIVE\n",
       "            </td>\n",
       "        </tr>\n",
       "    \n",
       "        <tr style=\"background-color: hsl(120, 100.00%, 99.97%); border: none;\">\n",
       "            <td style=\"padding: 0 1em 0 0.5em; text-align: right; border: none;\">\n",
       "                0.0000\n",
       "                \n",
       "                    &plusmn; 0.0001\n",
       "                \n",
       "            </td>\n",
       "            <td style=\"padding: 0 0.5em 0 0.5em; text-align: left; border: none;\">\n",
       "                CYL_6\n",
       "            </td>\n",
       "        </tr>\n",
       "    \n",
       "        <tr style=\"background-color: hsl(0, 100.00%, 100.00%); border: none;\">\n",
       "            <td style=\"padding: 0 1em 0 0.5em; text-align: right; border: none;\">\n",
       "                0\n",
       "                \n",
       "                    &plusmn; 0.0000\n",
       "                \n",
       "            </td>\n",
       "            <td style=\"padding: 0 0.5em 0 0.5em; text-align: left; border: none;\">\n",
       "                MAKE_HONDA\n",
       "            </td>\n",
       "        </tr>\n",
       "    \n",
       "    \n",
       "    </tbody>\n",
       "</table>\n",
       "    \n",
       "\n",
       "    \n",
       "\n",
       "\n",
       "    \n",
       "\n",
       "    \n",
       "\n",
       "    \n",
       "\n",
       "    \n",
       "\n",
       "    \n",
       "\n",
       "    \n",
       "\n",
       "\n",
       "\n"
      ],
      "text/plain": [
       "<IPython.core.display.HTML object>"
      ]
     },
     "execution_count": 375,
     "metadata": {},
     "output_type": "execute_result"
    }
   ],
   "source": [
    "import eli5\n",
    "from eli5.sklearn import PermutationImportance\n",
    "\n",
    "perm = PermutationImportance(rf_model, random_state=1).fit(X_train, y_train)\n",
    "eli5.show_weights(perm, feature_names = X_train.columns.tolist(),top=300)"
   ]
  },
  {
   "cell_type": "code",
   "execution_count": 377,
   "metadata": {},
   "outputs": [],
   "source": [
    "import tensorflow as tf\n",
    "l0 = tf.keras.layers.Dense(units=4, input_shape=[22])  \n",
    "l1 = tf.keras.layers.Dense(units=4)  \n",
    "l2 = tf.keras.layers.Dense(units=1)  \n",
    "model = tf.keras.Sequential([l0, l1, l2])"
   ]
  },
  {
   "cell_type": "code",
   "execution_count": 378,
   "metadata": {},
   "outputs": [],
   "source": [
    "model.compile(loss='mean_squared_error',\n",
    "              optimizer=tf.keras.optimizers.Adam(0.1))"
   ]
  },
  {
   "cell_type": "code",
   "execution_count": 379,
   "metadata": {},
   "outputs": [
    {
     "name": "stdout",
     "output_type": "stream",
     "text": [
      "Finished training the model\n"
     ]
    }
   ],
   "source": [
    "history = model.fit(X_train, y_train, epochs=500, verbose=False)\n",
    "print(\"Finished training the model\")"
   ]
  },
  {
   "cell_type": "code",
   "execution_count": 380,
   "metadata": {},
   "outputs": [
    {
     "data": {
      "text/plain": [
       "[<matplotlib.lines.Line2D at 0x214c47c55c0>]"
      ]
     },
     "execution_count": 380,
     "metadata": {},
     "output_type": "execute_result"
    },
    {
     "data": {
      "image/png": "[encoded data removed]",
      "text/plain": [
       "<Figure size 432x288 with 1 Axes>"
      ]
     },
     "metadata": {
      "needs_background": "light"
     },
     "output_type": "display_data"
    }
   ],
   "source": [
    "import matplotlib.pyplot as plt\n",
    "plt.xlabel('Epoch Number')\n",
    "plt.ylabel(\"Loss Magnitude\")\n",
    "plt.plot(history.history['loss'])"
   ]
  },
  {
   "cell_type": "code",
   "execution_count": 381,
   "metadata": {},
   "outputs": [
    {
     "name": "stdout",
     "output_type": "stream",
     "text": [
      "[[ 64123.38 ]\n",
      " [ 33230.684]\n",
      " [ 59573.332]\n",
      " [285179.38 ]]\n"
     ]
    }
   ],
   "source": [
    "print(model.predict([X_test]))\n",
    "prediction = model.predict([X_test])"
   ]
  },
  {
   "cell_type": "code",
   "execution_count": 382,
   "metadata": {},
   "outputs": [
    {
     "name": "stdout",
     "output_type": "stream",
     "text": [
      "0      74500\n",
      "2      30000\n",
      "7      52900\n",
      "16    269400\n",
      "Name: Peninsular Malaysia RRR, dtype: int64\n"
     ]
    }
   ],
   "source": [
    "print(y_test)"
   ]
  },
  {
   "cell_type": "code",
   "execution_count": 383,
   "metadata": {},
   "outputs": [
    {
     "name": "stdout",
     "output_type": "stream",
     "text": [
      "MAE: 9015.0029296875\n",
      "MSE: 102908404.39902878\n",
      "RMSE: 10144.377970039799\n"
     ]
    }
   ],
   "source": [
    "print('MAE:', metrics.mean_absolute_error(y_test, prediction))\n",
    "print('MSE:', metrics.mean_squared_error(y_test, prediction))\n",
    "print('RMSE:', np.sqrt(metrics.mean_squared_error(y_test, prediction)))"
   ]
  },
  {
   "cell_type": "markdown",
   "metadata": {},
   "source": [
    "### Predict Sabah RRR"
   ]
  },
  {
   "cell_type": "code",
   "execution_count": 384,
   "metadata": {},
   "outputs": [
    {
     "name": "stdout",
     "output_type": "stream",
     "text": [
      "(16, 24)\n"
     ]
    }
   ],
   "source": [
    "SRRR = pd.get_dummies(df)\n",
    "print(SRRR.shape)"
   ]
  },
  {
   "cell_type": "code",
   "execution_count": 385,
   "metadata": {},
   "outputs": [],
   "source": [
    "from sklearn.model_selection import train_test_split\n",
    "y = SRRR['Sabah & Sarawak RRR']\n",
    "X = SRRR[SRRR.columns.difference(['Peninsular Malaysia RRR','Sabah & Sarawak RRR'])]"
   ]
  },
  {
   "cell_type": "code",
   "execution_count": 386,
   "metadata": {},
   "outputs": [],
   "source": [
    "X = min_max_normalized(X)"
   ]
  },
  {
   "cell_type": "code",
   "execution_count": 387,
   "metadata": {},
   "outputs": [],
   "source": [
    "X = X.dropna(axis=1)"
   ]
  },
  {
   "cell_type": "code",
   "execution_count": 388,
   "metadata": {},
   "outputs": [],
   "source": [
    "X_train, X_test, y_train, y_test = train_test_split (X, y, test_size=0.2, random_state=42)"
   ]
  },
  {
   "cell_type": "code",
   "execution_count": 389,
   "metadata": {},
   "outputs": [
    {
     "name": "stdout",
     "output_type": "stream",
     "text": [
      "LinearRegression(copy_X=True, fit_intercept=True, n_jobs=None, normalize=False)\n"
     ]
    }
   ],
   "source": [
    "from sklearn.linear_model import LinearRegression\n",
    "lm = LinearRegression()\n",
    "lm.fit(X_train,y_train)\n",
    "print(lm)"
   ]
  },
  {
   "cell_type": "code",
   "execution_count": 390,
   "metadata": {},
   "outputs": [],
   "source": [
    "predictions = lm.predict(X_test)\n",
    "predictions= predictions.reshape(-1,1)"
   ]
  },
  {
   "cell_type": "code",
   "execution_count": 391,
   "metadata": {},
   "outputs": [
    {
     "name": "stdout",
     "output_type": "stream",
     "text": [
      "MAE: 9.542422895346403e+17\n",
      "MSE: 2.0675061234525875e+36\n",
      "RMSE: 1.437882513786362e+18\n"
     ]
    }
   ],
   "source": [
    "from sklearn import metrics\n",
    "print ('MAE:', metrics.mean_absolute_error(y_test, predictions))\n",
    "print('MSE:', metrics.mean_squared_error(y_test, predictions))\n",
    "print('RMSE:', np.sqrt(metrics.mean_squared_error(y_test, predictions)))"
   ]
  },
  {
   "cell_type": "code",
   "execution_count": 392,
   "metadata": {},
   "outputs": [
    {
     "name": "stdout",
     "output_type": "stream",
     "text": [
      "[[-1.20655947e+18]\n",
      " [-2.61040969e+18]\n",
      " [ 3.17440000e+04]\n",
      " [ 3.12320000e+05]]\n"
     ]
    }
   ],
   "source": [
    "print(predictions)"
   ]
  },
  {
   "cell_type": "code",
   "execution_count": 393,
   "metadata": {},
   "outputs": [
    {
     "name": "stdout",
     "output_type": "stream",
     "text": [
      "0      82100.0\n",
      "2      34300.0\n",
      "7      59300.0\n",
      "16    297300.0\n",
      "Name: Sabah & Sarawak RRR, dtype: float64\n"
     ]
    }
   ],
   "source": [
    "print(y_test)"
   ]
  },
  {
   "cell_type": "code",
   "execution_count": 394,
   "metadata": {},
   "outputs": [],
   "source": [
    "rf_model = RandomForestRegressor(n_estimators= 400,\n",
    "                                 min_samples_split= 5,\n",
    "                                 min_samples_leaf= 1,\n",
    "                                 max_features= 'sqrt',\n",
    "                                 max_depth= 30,\n",
    "                                 bootstrap= True)\n",
    "\n",
    "rf_model.fit(X_train, y_train)\n",
    "predictions = rf_model.predict(X_test)\n",
    "predictions = predictions.reshape(-1,1)"
   ]
  },
  {
   "cell_type": "code",
   "execution_count": 395,
   "metadata": {},
   "outputs": [
    {
     "data": {
      "text/plain": [
       "array([[ 50428.99878247],\n",
       "       [ 44896.91574675],\n",
       "       [ 64825.29630231],\n",
       "       [266333.29255952]])"
      ]
     },
     "execution_count": 395,
     "metadata": {},
     "output_type": "execute_result"
    }
   ],
   "source": [
    "predictions"
   ]
  },
  {
   "cell_type": "code",
   "execution_count": 396,
   "metadata": {},
   "outputs": [
    {
     "data": {
      "text/plain": [
       "0      82100.0\n",
       "2      34300.0\n",
       "7      59300.0\n",
       "16    297300.0\n",
       "Name: Sabah & Sarawak RRR, dtype: float64"
      ]
     },
     "execution_count": 396,
     "metadata": {},
     "output_type": "execute_result"
    }
   ],
   "source": [
    "y_test"
   ]
  },
  {
   "cell_type": "code",
   "execution_count": 397,
   "metadata": {},
   "outputs": [
    {
     "name": "stdout",
     "output_type": "stream",
     "text": [
      "MAE: 19689.98017676769\n",
      "MSE: 526203202.5992712\n",
      "RMSE: 22939.119481777656\n"
     ]
    }
   ],
   "source": [
    "print('MAE:', metrics.mean_absolute_error(y_test, predictions))\n",
    "print('MSE:', metrics.mean_squared_error(y_test, predictions))\n",
    "print('RMSE:', np.sqrt(metrics.mean_squared_error(y_test, predictions)))"
   ]
  },
  {
   "cell_type": "code",
   "execution_count": 399,
   "metadata": {},
   "outputs": [],
   "source": [
    "import tensorflow as tf\n",
    "l0 = tf.keras.layers.Dense(units=4, input_shape=[22])  \n",
    "l1 = tf.keras.layers.Dense(units=4)  \n",
    "l2 = tf.keras.layers.Dense(units=1)  \n",
    "model = tf.keras.Sequential([l0, l1, l2])"
   ]
  },
  {
   "cell_type": "code",
   "execution_count": 400,
   "metadata": {},
   "outputs": [],
   "source": [
    "model.compile(loss='mean_squared_error',\n",
    "              optimizer=tf.keras.optimizers.Adam(0.1))"
   ]
  },
  {
   "cell_type": "code",
   "execution_count": 401,
   "metadata": {},
   "outputs": [
    {
     "name": "stdout",
     "output_type": "stream",
     "text": [
      "Finished training the model\n"
     ]
    }
   ],
   "source": [
    "history = model.fit(X_train, y_train, epochs=500, verbose=False)\n",
    "print(\"Finished training the model\")"
   ]
  },
  {
   "cell_type": "code",
   "execution_count": 402,
   "metadata": {},
   "outputs": [
    {
     "name": "stdout",
     "output_type": "stream",
     "text": [
      "[[ 70871.53]\n",
      " [ 37065.48]\n",
      " [ 65741.84]\n",
      " [313027.88]]\n"
     ]
    }
   ],
   "source": [
    "print(model.predict([X_test]))\n",
    "prediction = model.predict([X_test])"
   ]
  },
  {
   "cell_type": "code",
   "execution_count": 403,
   "metadata": {},
   "outputs": [
    {
     "data": {
      "text/plain": [
       "0      82100.0\n",
       "2      34300.0\n",
       "7      59300.0\n",
       "16    297300.0\n",
       "Name: Sabah & Sarawak RRR, dtype: float64"
      ]
     },
     "execution_count": 403,
     "metadata": {},
     "output_type": "execute_result"
    }
   ],
   "source": [
    "y_test"
   ]
  },
  {
   "cell_type": "code",
   "execution_count": 404,
   "metadata": {},
   "outputs": [
    {
     "name": "stdout",
     "output_type": "stream",
     "text": [
      "MAE: 9040.9169921875\n",
      "MSE: 105647448.90195084\n",
      "RMSE: 10278.494486156562\n"
     ]
    }
   ],
   "source": [
    "print('MAE:', metrics.mean_absolute_error(y_test, prediction))\n",
    "print('MSE:', metrics.mean_squared_error(y_test, prediction))\n",
    "print('RMSE:', np.sqrt(metrics.mean_squared_error(y_test, prediction)))"
   ]
  },
  {
   "cell_type": "markdown",
   "metadata": {},
   "source": [
    "# PREDICTING NEW CAR PRICE"
   ]
  },
  {
   "cell_type": "code",
   "execution_count": 349,
   "metadata": {},
   "outputs": [
    {
     "name": "stdout",
     "output_type": "stream",
     "text": [
      "(16, 32)\n"
     ]
    }
   ],
   "source": [
    "NPR = pd.get_dummies(df)\n",
    "print(NPR.shape)"
   ]
  },
  {
   "cell_type": "code",
   "execution_count": null,
   "metadata": {},
   "outputs": [],
   "source": [
    "from sklearn.model_selection import train_test_split\n",
    "y = NPR['Peninsular Malaysia NEW PR']\n",
    "X = NPR[NPR.columns.difference(['Peninsular Malaysia RRR','Sabah & Sarawak RRR','Peninsular Malaysia NEW PR'])]"
   ]
  },
  {
   "cell_type": "code",
   "execution_count": 158,
   "metadata": {},
   "outputs": [
    {
     "name": "stderr",
     "output_type": "stream",
     "text": [
      "C:\\Users\\seeming.tan\\AppData\\Local\\Continuum\\anaconda3\\envs\\tensorflow-keras\\lib\\site-packages\\ipykernel_launcher.py:4: RuntimeWarning: invalid value encountered in true_divide\n",
      "  after removing the cwd from sys.path.\n"
     ]
    }
   ],
   "source": [
    "X = min_max_normalized(X)\n",
    "X = X.dropna(axis=1)"
   ]
  },
  {
   "cell_type": "code",
   "execution_count": 159,
   "metadata": {},
   "outputs": [],
   "source": [
    "X_train, X_test, y_train, y_test = train_test_split (X, y, test_size=0.2, random_state=42)"
   ]
  },
  {
   "cell_type": "code",
   "execution_count": 160,
   "metadata": {},
   "outputs": [
    {
     "name": "stdout",
     "output_type": "stream",
     "text": [
      "LinearRegression(copy_X=True, fit_intercept=True, n_jobs=None, normalize=False)\n"
     ]
    }
   ],
   "source": [
    "from sklearn.linear_model import LinearRegression\n",
    "lm = LinearRegression()\n",
    "lm.fit(X_train,y_train)\n",
    "print(lm)"
   ]
  },
  {
   "cell_type": "code",
   "execution_count": 161,
   "metadata": {},
   "outputs": [],
   "source": [
    "predictions = lm.predict(X_test)\n",
    "predictions= predictions.reshape(-1,1)"
   ]
  },
  {
   "cell_type": "code",
   "execution_count": 162,
   "metadata": {},
   "outputs": [
    {
     "name": "stdout",
     "output_type": "stream",
     "text": [
      "MAE: 51165.4348011408\n",
      "MSE: 4514655402.12991\n",
      "RMSE: 67191.18544965486\n"
     ]
    }
   ],
   "source": [
    "from sklearn import metrics\n",
    "print ('MAE:', metrics.mean_absolute_error(y_test, predictions))\n",
    "print('MSE:', metrics.mean_squared_error(y_test, predictions))\n",
    "print('RMSE:', np.sqrt(metrics.mean_squared_error(y_test, predictions)))"
   ]
  },
  {
   "cell_type": "code",
   "execution_count": 163,
   "metadata": {},
   "outputs": [
    {
     "name": "stdout",
     "output_type": "stream",
     "text": [
      "[[231059.50137308]\n",
      " [211026.37419512]\n",
      " [206736.36363636]\n",
      " [671816.5       ]]\n"
     ]
    }
   ],
   "source": [
    "print(predictions)"
   ]
  },
  {
   "cell_type": "code",
   "execution_count": 164,
   "metadata": {},
   "outputs": [
    {
     "data": {
      "text/plain": [
       "0     170906\n",
       "2      92283\n",
       "7     195888\n",
       "16    656900\n",
       "Name: Peninsular Malaysia NEW PR, dtype: int64"
      ]
     },
     "execution_count": 164,
     "metadata": {},
     "output_type": "execute_result"
    }
   ],
   "source": [
    "y_test"
   ]
  },
  {
   "cell_type": "code",
   "execution_count": 165,
   "metadata": {},
   "outputs": [],
   "source": [
    "rf_model = RandomForestRegressor(n_estimators= 400,\n",
    "                                 min_samples_split= 5,\n",
    "                                 min_samples_leaf= 1,\n",
    "                                 max_features= 'sqrt',\n",
    "                                 max_depth= 30,\n",
    "                                 bootstrap= True)\n",
    "\n",
    "rf_model.fit(X_train, y_train)\n",
    "predictions = rf_model.predict(X_test)\n",
    "predictions = predictions.reshape(-1,1)"
   ]
  },
  {
   "cell_type": "code",
   "execution_count": 166,
   "metadata": {},
   "outputs": [
    {
     "name": "stdout",
     "output_type": "stream",
     "text": [
      "MAE: 49426.8162126623\n",
      "MSE: 3130230921.55774\n",
      "RMSE: 55948.46665957647\n"
     ]
    }
   ],
   "source": [
    "print('MAE:', metrics.mean_absolute_error(y_test, predictions))\n",
    "print('MSE:', metrics.mean_squared_error(y_test, predictions))\n",
    "print('RMSE:', np.sqrt(metrics.mean_squared_error(y_test, predictions)))"
   ]
  },
  {
   "cell_type": "code",
   "execution_count": 167,
   "metadata": {},
   "outputs": [
    {
     "data": {
      "text/plain": [
       "array([[223902.42907882],\n",
       "       [181327.81710516],\n",
       "       [212905.05073656],\n",
       "       [618251.0320699 ]])"
      ]
     },
     "execution_count": 167,
     "metadata": {},
     "output_type": "execute_result"
    }
   ],
   "source": [
    "predictions"
   ]
  },
  {
   "cell_type": "code",
   "execution_count": 168,
   "metadata": {},
   "outputs": [
    {
     "data": {
      "text/plain": [
       "0     170906\n",
       "2      92283\n",
       "7     195888\n",
       "16    656900\n",
       "Name: Peninsular Malaysia NEW PR, dtype: int64"
      ]
     },
     "execution_count": 168,
     "metadata": {},
     "output_type": "execute_result"
    }
   ],
   "source": [
    "y_test"
   ]
  },
  {
   "cell_type": "code",
   "execution_count": 172,
   "metadata": {},
   "outputs": [],
   "source": [
    "l0 = tf.keras.layers.Dense(units=4, input_shape=[73])  \n",
    "l1 = tf.keras.layers.Dense(units=4)  \n",
    "l2 = tf.keras.layers.Dense(units=1)  \n",
    "model = tf.keras.Sequential([l0, l1, l2])"
   ]
  },
  {
   "cell_type": "code",
   "execution_count": 173,
   "metadata": {},
   "outputs": [
    {
     "name": "stdout",
     "output_type": "stream",
     "text": [
      "Finished training the model\n"
     ]
    }
   ],
   "source": [
    "model.compile(loss='mean_squared_error',\n",
    "              optimizer=tf.keras.optimizers.Adam(0.1))\n",
    "history = model.fit(X_train, y_train, epochs=500, verbose=False)\n",
    "print(\"Finished training the model\")"
   ]
  },
  {
   "cell_type": "code",
   "execution_count": 174,
   "metadata": {},
   "outputs": [
    {
     "name": "stdout",
     "output_type": "stream",
     "text": [
      "[[239439.08]\n",
      " [162489.31]\n",
      " [193539.86]\n",
      " [671784.9 ]]\n"
     ]
    }
   ],
   "source": [
    "print(model.predict([X_test]))\n",
    "prediction = model.predict([X_test])"
   ]
  },
  {
   "cell_type": "code",
   "execution_count": 175,
   "metadata": {},
   "outputs": [
    {
     "data": {
      "text/plain": [
       "0     170906\n",
       "2      92283\n",
       "7     195888\n",
       "16    656900\n",
       "Name: Peninsular Malaysia NEW PR, dtype: int64"
      ]
     },
     "execution_count": 175,
     "metadata": {},
     "output_type": "execute_result"
    }
   ],
   "source": [
    "y_test"
   ]
  },
  {
   "cell_type": "code",
   "execution_count": 176,
   "metadata": {},
   "outputs": [
    {
     "name": "stdout",
     "output_type": "stream",
     "text": [
      "MAE: 38993.1015625\n",
      "MSE: 2463195595.0738525\n",
      "RMSE: 49630.591323032335\n"
     ]
    }
   ],
   "source": [
    "print('MAE:', metrics.mean_absolute_error(y_test, prediction))\n",
    "print('MSE:', metrics.mean_squared_error(y_test, prediction))\n",
    "print('RMSE:', np.sqrt(metrics.mean_squared_error(y_test, prediction)))"
   ]
  },
  {
   "cell_type": "code",
   "execution_count": null,
   "metadata": {},
   "outputs": [],
   "source": []
  }
 ],
 "metadata": {
  "kernelspec": {
   "display_name": "Python 3",
   "language": "python",
   "name": "python3"
  },
  "language_info": {
   "codemirror_mode": {
    "name": "ipython",
    "version": 3
   },
   "file_extension": ".py",
   "mimetype": "text/x-python",
   "name": "python",
   "nbconvert_exporter": "python",
   "pygments_lexer": "ipython3",
   "version": "3.7.3"
  }
 },
 "nbformat": 4,
 "nbformat_minor": 2
}
