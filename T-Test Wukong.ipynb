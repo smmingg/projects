{
 "cells": [
  {
   "cell_type": "code",
   "execution_count": 1,
   "id": "89126cde",
   "metadata": {},
   "outputs": [],
   "source": [
    "import pandas as pd\n",
    "import numpy as np\n",
    "import scipy.stats as stats\n",
    "from scipy.stats import t\n",
    "import matplotlib.pyplot as plt\n",
    "import seaborn as sns\n",
    "import researchpy as rp"
   ]
  },
  {
   "cell_type": "code",
   "execution_count": 2,
   "id": "218317ab",
   "metadata": {},
   "outputs": [],
   "source": [
    "df1 = pd.read_csv(\"/Users/user/Desktop/EpicWin/Data/20210706-20210713-WuKongBlessing.csv\")\n",
    "df2 = pd.read_csv(\"/Users/user/Desktop/EpicWin/Data/20210806-20210813-WuKongBlessing.csv\")"
   ]
  },
  {
   "cell_type": "code",
   "execution_count": 3,
   "id": "dcab371d",
   "metadata": {},
   "outputs": [
    {
     "data": {
      "text/html": [
       "<div>\n",
       "<style scoped>\n",
       "    .dataframe tbody tr th:only-of-type {\n",
       "        vertical-align: middle;\n",
       "    }\n",
       "\n",
       "    .dataframe tbody tr th {\n",
       "        vertical-align: top;\n",
       "    }\n",
       "\n",
       "    .dataframe thead th {\n",
       "        text-align: right;\n",
       "    }\n",
       "</style>\n",
       "<table border=\"1\" class=\"dataframe\">\n",
       "  <thead>\n",
       "    <tr style=\"text-align: right;\">\n",
       "      <th></th>\n",
       "      <th>NickName</th>\n",
       "      <th>GameName</th>\n",
       "      <th>BetCount</th>\n",
       "      <th>ValidTurnover</th>\n",
       "    </tr>\n",
       "  </thead>\n",
       "  <tbody>\n",
       "    <tr>\n",
       "      <th>0</th>\n",
       "      <td>0102011401@epwnc</td>\n",
       "      <td>WuKongBlessing</td>\n",
       "      <td>50</td>\n",
       "      <td>19.6</td>\n",
       "    </tr>\n",
       "    <tr>\n",
       "      <th>1</th>\n",
       "      <td>0102027387@epwnc</td>\n",
       "      <td>WuKongBlessing</td>\n",
       "      <td>134</td>\n",
       "      <td>327.4</td>\n",
       "    </tr>\n",
       "    <tr>\n",
       "      <th>2</th>\n",
       "      <td>0102032668@epwnc</td>\n",
       "      <td>WuKongBlessing</td>\n",
       "      <td>72</td>\n",
       "      <td>182.2</td>\n",
       "    </tr>\n",
       "    <tr>\n",
       "      <th>3</th>\n",
       "      <td>0102079785@epwnc</td>\n",
       "      <td>WuKongBlessing</td>\n",
       "      <td>56</td>\n",
       "      <td>20.6</td>\n",
       "    </tr>\n",
       "    <tr>\n",
       "      <th>4</th>\n",
       "      <td>0102553737@epwnc</td>\n",
       "      <td>WuKongBlessing</td>\n",
       "      <td>2</td>\n",
       "      <td>0.4</td>\n",
       "    </tr>\n",
       "  </tbody>\n",
       "</table>\n",
       "</div>"
      ],
      "text/plain": [
       "           NickName        GameName  BetCount  ValidTurnover\n",
       "0  0102011401@epwnc  WuKongBlessing        50           19.6\n",
       "1  0102027387@epwnc  WuKongBlessing       134          327.4\n",
       "2  0102032668@epwnc  WuKongBlessing        72          182.2\n",
       "3  0102079785@epwnc  WuKongBlessing        56           20.6\n",
       "4  0102553737@epwnc  WuKongBlessing         2            0.4"
      ]
     },
     "execution_count": 3,
     "metadata": {},
     "output_type": "execute_result"
    }
   ],
   "source": [
    "df1.head()"
   ]
  },
  {
   "cell_type": "code",
   "execution_count": 4,
   "id": "36a334c7",
   "metadata": {},
   "outputs": [
    {
     "name": "stdout",
     "output_type": "stream",
     "text": [
      "<class 'pandas.core.frame.DataFrame'>\n",
      "RangeIndex: 415 entries, 0 to 414\n",
      "Data columns (total 4 columns):\n",
      " #   Column         Non-Null Count  Dtype  \n",
      "---  ------         --------------  -----  \n",
      " 0   NickName       415 non-null    object \n",
      " 1   GameName       415 non-null    object \n",
      " 2   BetCount       415 non-null    int64  \n",
      " 3   ValidTurnover  415 non-null    float64\n",
      "dtypes: float64(1), int64(1), object(2)\n",
      "memory usage: 13.1+ KB\n"
     ]
    }
   ],
   "source": [
    "df1.info()"
   ]
  },
  {
   "cell_type": "code",
   "execution_count": 5,
   "id": "c720ea0b",
   "metadata": {},
   "outputs": [
    {
     "name": "stdout",
     "output_type": "stream",
     "text": [
      "<class 'pandas.core.frame.DataFrame'>\n",
      "RangeIndex: 410 entries, 0 to 409\n",
      "Data columns (total 4 columns):\n",
      " #   Column         Non-Null Count  Dtype  \n",
      "---  ------         --------------  -----  \n",
      " 0   NickName       410 non-null    object \n",
      " 1   GameName       410 non-null    object \n",
      " 2   BetCount       410 non-null    int64  \n",
      " 3   ValidTurnover  410 non-null    float64\n",
      "dtypes: float64(1), int64(1), object(2)\n",
      "memory usage: 12.9+ KB\n"
     ]
    }
   ],
   "source": [
    "df2.info()"
   ]
  },
  {
   "cell_type": "code",
   "execution_count": 6,
   "id": "3fb04202",
   "metadata": {},
   "outputs": [
    {
     "data": {
      "text/html": [
       "<div>\n",
       "<style scoped>\n",
       "    .dataframe tbody tr th:only-of-type {\n",
       "        vertical-align: middle;\n",
       "    }\n",
       "\n",
       "    .dataframe tbody tr th {\n",
       "        vertical-align: top;\n",
       "    }\n",
       "\n",
       "    .dataframe thead th {\n",
       "        text-align: right;\n",
       "    }\n",
       "</style>\n",
       "<table border=\"1\" class=\"dataframe\">\n",
       "  <thead>\n",
       "    <tr style=\"text-align: right;\">\n",
       "      <th></th>\n",
       "      <th>BetCount</th>\n",
       "      <th>ValidTurnover</th>\n",
       "    </tr>\n",
       "  </thead>\n",
       "  <tbody>\n",
       "    <tr>\n",
       "      <th>count</th>\n",
       "      <td>415.000000</td>\n",
       "      <td>415.000000</td>\n",
       "    </tr>\n",
       "    <tr>\n",
       "      <th>mean</th>\n",
       "      <td>227.368675</td>\n",
       "      <td>145.003855</td>\n",
       "    </tr>\n",
       "    <tr>\n",
       "      <th>std</th>\n",
       "      <td>414.961690</td>\n",
       "      <td>457.834259</td>\n",
       "    </tr>\n",
       "    <tr>\n",
       "      <th>min</th>\n",
       "      <td>1.000000</td>\n",
       "      <td>0.200000</td>\n",
       "    </tr>\n",
       "    <tr>\n",
       "      <th>25%</th>\n",
       "      <td>46.500000</td>\n",
       "      <td>16.000000</td>\n",
       "    </tr>\n",
       "    <tr>\n",
       "      <th>50%</th>\n",
       "      <td>106.000000</td>\n",
       "      <td>39.200000</td>\n",
       "    </tr>\n",
       "    <tr>\n",
       "      <th>75%</th>\n",
       "      <td>235.000000</td>\n",
       "      <td>101.900000</td>\n",
       "    </tr>\n",
       "    <tr>\n",
       "      <th>max</th>\n",
       "      <td>5655.000000</td>\n",
       "      <td>7414.400000</td>\n",
       "    </tr>\n",
       "  </tbody>\n",
       "</table>\n",
       "</div>"
      ],
      "text/plain": [
       "          BetCount  ValidTurnover\n",
       "count   415.000000     415.000000\n",
       "mean    227.368675     145.003855\n",
       "std     414.961690     457.834259\n",
       "min       1.000000       0.200000\n",
       "25%      46.500000      16.000000\n",
       "50%     106.000000      39.200000\n",
       "75%     235.000000     101.900000\n",
       "max    5655.000000    7414.400000"
      ]
     },
     "execution_count": 6,
     "metadata": {},
     "output_type": "execute_result"
    }
   ],
   "source": [
    "df1.describe()"
   ]
  },
  {
   "cell_type": "code",
   "execution_count": 7,
   "id": "6c067a64",
   "metadata": {},
   "outputs": [
    {
     "data": {
      "text/html": [
       "<div>\n",
       "<style scoped>\n",
       "    .dataframe tbody tr th:only-of-type {\n",
       "        vertical-align: middle;\n",
       "    }\n",
       "\n",
       "    .dataframe tbody tr th {\n",
       "        vertical-align: top;\n",
       "    }\n",
       "\n",
       "    .dataframe thead th {\n",
       "        text-align: right;\n",
       "    }\n",
       "</style>\n",
       "<table border=\"1\" class=\"dataframe\">\n",
       "  <thead>\n",
       "    <tr style=\"text-align: right;\">\n",
       "      <th></th>\n",
       "      <th>BetCount</th>\n",
       "      <th>ValidTurnover</th>\n",
       "    </tr>\n",
       "  </thead>\n",
       "  <tbody>\n",
       "    <tr>\n",
       "      <th>count</th>\n",
       "      <td>410.000000</td>\n",
       "      <td>410.000000</td>\n",
       "    </tr>\n",
       "    <tr>\n",
       "      <th>mean</th>\n",
       "      <td>262.080488</td>\n",
       "      <td>232.300000</td>\n",
       "    </tr>\n",
       "    <tr>\n",
       "      <th>std</th>\n",
       "      <td>458.833778</td>\n",
       "      <td>978.678845</td>\n",
       "    </tr>\n",
       "    <tr>\n",
       "      <th>min</th>\n",
       "      <td>1.000000</td>\n",
       "      <td>0.200000</td>\n",
       "    </tr>\n",
       "    <tr>\n",
       "      <th>25%</th>\n",
       "      <td>47.250000</td>\n",
       "      <td>13.250000</td>\n",
       "    </tr>\n",
       "    <tr>\n",
       "      <th>50%</th>\n",
       "      <td>109.000000</td>\n",
       "      <td>42.100000</td>\n",
       "    </tr>\n",
       "    <tr>\n",
       "      <th>75%</th>\n",
       "      <td>271.250000</td>\n",
       "      <td>129.150000</td>\n",
       "    </tr>\n",
       "    <tr>\n",
       "      <th>max</th>\n",
       "      <td>4190.000000</td>\n",
       "      <td>15280.000000</td>\n",
       "    </tr>\n",
       "  </tbody>\n",
       "</table>\n",
       "</div>"
      ],
      "text/plain": [
       "          BetCount  ValidTurnover\n",
       "count   410.000000     410.000000\n",
       "mean    262.080488     232.300000\n",
       "std     458.833778     978.678845\n",
       "min       1.000000       0.200000\n",
       "25%      47.250000      13.250000\n",
       "50%     109.000000      42.100000\n",
       "75%     271.250000     129.150000\n",
       "max    4190.000000   15280.000000"
      ]
     },
     "execution_count": 7,
     "metadata": {},
     "output_type": "execute_result"
    }
   ],
   "source": [
    "df2.describe()"
   ]
  },
  {
   "cell_type": "code",
   "execution_count": 8,
   "id": "8b9b860c",
   "metadata": {},
   "outputs": [
    {
     "name": "stdout",
     "output_type": "stream",
     "text": [
      "145.0038554216867\n",
      "232.2999999999999\n"
     ]
    }
   ],
   "source": [
    "# calculate means\n",
    "mean1, mean2 = np.mean(df1['ValidTurnover']), np.mean(df2['ValidTurnover'])\n",
    "print(mean1)\n",
    "print(mean2)"
   ]
  },
  {
   "cell_type": "code",
   "execution_count": 9,
   "id": "b2227fa7",
   "metadata": {},
   "outputs": [],
   "source": [
    "# calculate sample standard deviations\n",
    "std1, std2 = np.std(df1['ValidTurnover']), np.std(df2['ValidTurnover'])"
   ]
  },
  {
   "cell_type": "code",
   "execution_count": 10,
   "id": "fe4e6cea",
   "metadata": {},
   "outputs": [
    {
     "name": "stdout",
     "output_type": "stream",
     "text": [
      "22.447106192545203\n",
      "48.27452376620876\n"
     ]
    }
   ],
   "source": [
    "# calculate standard errors\n",
    "n1, n2 = len(df1), len(df2)\n",
    "se1, se2 = std1/np.sqrt(n1), std2/np.sqrt(n2)\n",
    "print(se1)\n",
    "print(se2)"
   ]
  },
  {
   "cell_type": "code",
   "execution_count": 11,
   "id": "97e00036",
   "metadata": {},
   "outputs": [
    {
     "data": {
      "text/plain": [
       "53.23816508176869"
      ]
     },
     "execution_count": 11,
     "metadata": {},
     "output_type": "execute_result"
    }
   ],
   "source": [
    "# standard error on the difference between the samples\n",
    "sed = np.sqrt(se1**2.0 + se2**2.0)\n",
    "sed"
   ]
  },
  {
   "cell_type": "code",
   "execution_count": 12,
   "id": "39f62166",
   "metadata": {},
   "outputs": [
    {
     "data": {
      "text/plain": [
       "Text(0.5, 1.0, 'After')"
      ]
     },
     "execution_count": 12,
     "metadata": {},
     "output_type": "execute_result"
    },
    {
     "data": {
      "image/png": "[encoded data removed]",
      "text/plain": [
       "<Figure size 1008x432 with 2 Axes>"
      ]
     },
     "metadata": {
      "needs_background": "light"
     },
     "output_type": "display_data"
    }
   ],
   "source": [
    "# histogram\n",
    "fig, axs = plt.subplots(1,2 , figsize=(14, 6))\n",
    "\n",
    "sns.histplot(data= df1 , x=\"ValidTurnover\" , ax=axs[0])\n",
    "axs[0].set_title('Before')\n",
    "\n",
    "sns.histplot(data= df2 , x=\"ValidTurnover\" , ax=axs[1])\n",
    "axs[1].set_title('After')"
   ]
  },
  {
   "cell_type": "code",
   "execution_count": 13,
   "id": "c5c9b9ee",
   "metadata": {},
   "outputs": [
    {
     "data": {
      "text/plain": [
       "Text(0.5, 1.0, 'After')"
      ]
     },
     "execution_count": 13,
     "metadata": {},
     "output_type": "execute_result"
    },
    {
     "data": {
      "image/png": "[encoded data removed]",
      "text/plain": [
       "<Figure size 1008x432 with 2 Axes>"
      ]
     },
     "metadata": {
      "needs_background": "light"
     },
     "output_type": "display_data"
    }
   ],
   "source": [
    "# boxplot\n",
    "fig, axs = plt.subplots(1,2 , figsize=(14, 6))\n",
    "\n",
    "sns.boxplot(data= df1 , x=\"BetCount\" , ax=axs[0])\n",
    "axs[0].set_title('Before')\n",
    "\n",
    "sns.boxplot(data= df2 , x=\"BetCount\" , ax=axs[1])\n",
    "axs[1].set_title('After')"
   ]
  },
  {
   "cell_type": "code",
   "execution_count": 14,
   "id": "4717cf60",
   "metadata": {},
   "outputs": [],
   "source": [
    "summary, results = rp.ttest(group1 = df1['ValidTurnover'], group1_name= \"Before\",\n",
    "                            group2 = df2['ValidTurnover'], group2_name= \"After\")"
   ]
  },
  {
   "cell_type": "code",
   "execution_count": 15,
   "id": "b7167ba6",
   "metadata": {},
   "outputs": [
    {
     "name": "stdout",
     "output_type": "stream",
     "text": [
      "   Variable      N        Mean          SD         SE   95% Conf.    Interval\n",
      "0    Before  415.0  145.003855  457.834259  22.474200  100.826082  189.181629\n",
      "1     After  410.0  232.300000  978.678845  48.333503  137.286915  327.313085\n",
      "2  combined  825.0  188.387394  763.309392  26.575022  136.224689  240.550099\n"
     ]
    }
   ],
   "source": [
    "print(summary)"
   ]
  },
  {
   "cell_type": "code",
   "execution_count": 16,
   "id": "3d1eff30",
   "metadata": {},
   "outputs": [
    {
     "name": "stdout",
     "output_type": "stream",
     "text": [
      "               Independent t-test   results\n",
      "0  Difference (Before - After) =   -87.2961\n",
      "1           Degrees of freedom =   823.0000\n",
      "2                            t =    -1.6441\n",
      "3        Two side test p value =     0.1005\n",
      "4       Difference < 0 p value =     0.0503\n",
      "5       Difference > 0 p value =     0.9497\n",
      "6                    Cohen's d =    -0.1145\n",
      "7                    Hedge's g =    -0.1144\n",
      "8                Glass's delta =    -0.1907\n",
      "9                  Pearson's r =     0.0572\n"
     ]
    }
   ],
   "source": [
    "print(results)"
   ]
  },
  {
   "cell_type": "code",
   "execution_count": 17,
   "id": "a15cf6b7",
   "metadata": {},
   "outputs": [
    {
     "data": {
      "text/plain": [
       "Ttest_indResult(statistic=-1.6441135699710976, pvalue=0.10053465069637421)"
      ]
     },
     "execution_count": 17,
     "metadata": {},
     "output_type": "execute_result"
    }
   ],
   "source": [
    "# results\n",
    "stats.ttest_ind( df1['ValidTurnover'], df2['ValidTurnover'])"
   ]
  },
  {
   "cell_type": "code",
   "execution_count": 18,
   "id": "c6ddf2cd",
   "metadata": {},
   "outputs": [
    {
     "name": "stdout",
     "output_type": "stream",
     "text": [
      "0.0627448048898181\n"
     ]
    }
   ],
   "source": [
    "# define alpha and degree of freedom\n",
    "alpha = 0.95\n",
    "dof = len(df1) - 1\n",
    "\n",
    "# critical value\n",
    "value = t.ppf(1-alpha/2, dof)\n",
    "print(value)"
   ]
  },
  {
   "cell_type": "code",
   "execution_count": null,
   "id": "c97a3bf9",
   "metadata": {},
   "outputs": [],
   "source": []
  }
 ],
 "metadata": {
  "kernelspec": {
   "display_name": "Python 3",
   "language": "python",
   "name": "python3"
  },
  "language_info": {
   "codemirror_mode": {
    "name": "ipython",
    "version": 3
   },
   "file_extension": ".py",
   "mimetype": "text/x-python",
   "name": "python",
   "nbconvert_exporter": "python",
   "pygments_lexer": "ipython3",
   "version": "3.8.8"
  }
 },
 "nbformat": 4,
 "nbformat_minor": 5
}
