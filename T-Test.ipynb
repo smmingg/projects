{
 "cells": [
  {
   "cell_type": "code",
   "execution_count": 1,
   "id": "c6986f4a",
   "metadata": {},
   "outputs": [],
   "source": [
    "import pandas as pd\n",
    "import numpy as np\n",
    "import scipy.stats as stats\n",
    "from scipy.stats import t\n",
    "import matplotlib.pyplot as plt\n",
    "import seaborn as sns\n",
    "import researchpy as rp"
   ]
  },
  {
   "cell_type": "code",
   "execution_count": 105,
   "id": "243241a7",
   "metadata": {},
   "outputs": [],
   "source": [
    "df1 = pd.read_csv(\"20210706-20210713-WuKongBlessing.csv\")\n",
    "df2 = pd.read_csv(\"20210806-20210813-WuKongBlessing.csv\")"
   ]
  },
  {
   "cell_type": "code",
   "execution_count": 103,
   "id": "a5925d7b",
   "metadata": {},
   "outputs": [
    {
     "name": "stdout",
     "output_type": "stream",
     "text": [
      "           NickName        GameName  BetCount  ValidTurnover\n",
      "0  0102011401@epwnc  WuKongBlessing        50           19.6\n",
      "1  0102027387@epwnc  WuKongBlessing       134          327.4\n",
      "2  0102032668@epwnc  WuKongBlessing        72          182.2\n",
      "3  0102079785@epwnc  WuKongBlessing        56           20.6\n",
      "4  0102553737@epwnc  WuKongBlessing         2            0.4\n",
      "           NickName        GameName  BetCount  ValidTurnover\n",
      "0  0102027387@epwnc  WuKongBlessing      1342         4969.8\n",
      "1  0102224629@epwnc  WuKongBlessing        20            8.0\n",
      "2  0102455625@epwnc  WuKongBlessing        99          345.0\n",
      "3  0102553737@epwnc  WuKongBlessing       519          569.8\n",
      "4  0102615991@epwnc  WuKongBlessing        46            9.2\n"
     ]
    }
   ],
   "source": [
    "print(df1.head())\n",
    "print(df2.head())"
   ]
  },
  {
   "cell_type": "code",
   "execution_count": 106,
   "id": "718a4593",
   "metadata": {},
   "outputs": [
    {
     "name": "stdout",
     "output_type": "stream",
     "text": [
      "(415, 4)\n",
      "(410, 4)\n"
     ]
    }
   ],
   "source": [
    "print(df1.shape)\n",
    "print(df2.shape)"
   ]
  },
  {
   "cell_type": "code",
   "execution_count": 92,
   "id": "cccb3153",
   "metadata": {},
   "outputs": [],
   "source": [
    "df = pd.concat([df1,df2], axis=1, join='inner' )"
   ]
  },
  {
   "cell_type": "code",
   "execution_count": 69,
   "id": "e9ba55a6",
   "metadata": {},
   "outputs": [],
   "source": [
    "df.columns = ['NickName', 'GameName', \n",
    "              'BetCount', 'ValidTurnover', \n",
    "              'NickName', 'GameName', \n",
    "              'BetCount_after', 'ValidTurnover_after']"
   ]
  },
  {
   "cell_type": "code",
   "execution_count": 70,
   "id": "74b3af16",
   "metadata": {},
   "outputs": [
    {
     "data": {
      "text/html": [
       "<div>\n",
       "<style scoped>\n",
       "    .dataframe tbody tr th:only-of-type {\n",
       "        vertical-align: middle;\n",
       "    }\n",
       "\n",
       "    .dataframe tbody tr th {\n",
       "        vertical-align: top;\n",
       "    }\n",
       "\n",
       "    .dataframe thead th {\n",
       "        text-align: right;\n",
       "    }\n",
       "</style>\n",
       "<table border=\"1\" class=\"dataframe\">\n",
       "  <thead>\n",
       "    <tr style=\"text-align: right;\">\n",
       "      <th></th>\n",
       "      <th>NickName</th>\n",
       "      <th>GameName</th>\n",
       "      <th>BetCount</th>\n",
       "      <th>ValidTurnover</th>\n",
       "      <th>NickName</th>\n",
       "      <th>GameName</th>\n",
       "      <th>BetCount_after</th>\n",
       "      <th>ValidTurnover_after</th>\n",
       "    </tr>\n",
       "  </thead>\n",
       "  <tbody>\n",
       "    <tr>\n",
       "      <th>0</th>\n",
       "      <td>0102011401@epwnc</td>\n",
       "      <td>WuKongBlessing</td>\n",
       "      <td>50</td>\n",
       "      <td>19.6</td>\n",
       "      <td>0102027387@epwnc</td>\n",
       "      <td>WuKongBlessing</td>\n",
       "      <td>1342</td>\n",
       "      <td>4969.8</td>\n",
       "    </tr>\n",
       "    <tr>\n",
       "      <th>1</th>\n",
       "      <td>0102027387@epwnc</td>\n",
       "      <td>WuKongBlessing</td>\n",
       "      <td>134</td>\n",
       "      <td>327.4</td>\n",
       "      <td>0102224629@epwnc</td>\n",
       "      <td>WuKongBlessing</td>\n",
       "      <td>20</td>\n",
       "      <td>8.0</td>\n",
       "    </tr>\n",
       "    <tr>\n",
       "      <th>2</th>\n",
       "      <td>0102032668@epwnc</td>\n",
       "      <td>WuKongBlessing</td>\n",
       "      <td>72</td>\n",
       "      <td>182.2</td>\n",
       "      <td>0102455625@epwnc</td>\n",
       "      <td>WuKongBlessing</td>\n",
       "      <td>99</td>\n",
       "      <td>345.0</td>\n",
       "    </tr>\n",
       "    <tr>\n",
       "      <th>3</th>\n",
       "      <td>0102079785@epwnc</td>\n",
       "      <td>WuKongBlessing</td>\n",
       "      <td>56</td>\n",
       "      <td>20.6</td>\n",
       "      <td>0102553737@epwnc</td>\n",
       "      <td>WuKongBlessing</td>\n",
       "      <td>519</td>\n",
       "      <td>569.8</td>\n",
       "    </tr>\n",
       "    <tr>\n",
       "      <th>4</th>\n",
       "      <td>0102553737@epwnc</td>\n",
       "      <td>WuKongBlessing</td>\n",
       "      <td>2</td>\n",
       "      <td>0.4</td>\n",
       "      <td>0102615991@epwnc</td>\n",
       "      <td>WuKongBlessing</td>\n",
       "      <td>46</td>\n",
       "      <td>9.2</td>\n",
       "    </tr>\n",
       "  </tbody>\n",
       "</table>\n",
       "</div>"
      ],
      "text/plain": [
       "           NickName        GameName  BetCount  ValidTurnover  \\\n",
       "0  0102011401@epwnc  WuKongBlessing        50           19.6   \n",
       "1  0102027387@epwnc  WuKongBlessing       134          327.4   \n",
       "2  0102032668@epwnc  WuKongBlessing        72          182.2   \n",
       "3  0102079785@epwnc  WuKongBlessing        56           20.6   \n",
       "4  0102553737@epwnc  WuKongBlessing         2            0.4   \n",
       "\n",
       "           NickName        GameName  BetCount_after  ValidTurnover_after  \n",
       "0  0102027387@epwnc  WuKongBlessing            1342               4969.8  \n",
       "1  0102224629@epwnc  WuKongBlessing              20                  8.0  \n",
       "2  0102455625@epwnc  WuKongBlessing              99                345.0  \n",
       "3  0102553737@epwnc  WuKongBlessing             519                569.8  \n",
       "4  0102615991@epwnc  WuKongBlessing              46                  9.2  "
      ]
     },
     "execution_count": 70,
     "metadata": {},
     "output_type": "execute_result"
    }
   ],
   "source": [
    "df.head()"
   ]
  },
  {
   "cell_type": "code",
   "execution_count": 71,
   "id": "e508a04f",
   "metadata": {},
   "outputs": [
    {
     "data": {
      "text/plain": [
       "(410, 8)"
      ]
     },
     "execution_count": 71,
     "metadata": {},
     "output_type": "execute_result"
    }
   ],
   "source": [
    "df.shape"
   ]
  },
  {
   "cell_type": "code",
   "execution_count": 72,
   "id": "32b3ff92",
   "metadata": {},
   "outputs": [
    {
     "data": {
      "text/html": [
       "<div>\n",
       "<style scoped>\n",
       "    .dataframe tbody tr th:only-of-type {\n",
       "        vertical-align: middle;\n",
       "    }\n",
       "\n",
       "    .dataframe tbody tr th {\n",
       "        vertical-align: top;\n",
       "    }\n",
       "\n",
       "    .dataframe thead th {\n",
       "        text-align: right;\n",
       "    }\n",
       "</style>\n",
       "<table border=\"1\" class=\"dataframe\">\n",
       "  <thead>\n",
       "    <tr style=\"text-align: right;\">\n",
       "      <th></th>\n",
       "      <th>BetCount</th>\n",
       "      <th>ValidTurnover</th>\n",
       "      <th>BetCount_after</th>\n",
       "      <th>ValidTurnover_after</th>\n",
       "    </tr>\n",
       "  </thead>\n",
       "  <tbody>\n",
       "    <tr>\n",
       "      <th>count</th>\n",
       "      <td>410.000000</td>\n",
       "      <td>410.000000</td>\n",
       "      <td>410.000000</td>\n",
       "      <td>410.000000</td>\n",
       "    </tr>\n",
       "    <tr>\n",
       "      <th>mean</th>\n",
       "      <td>228.914634</td>\n",
       "      <td>146.377561</td>\n",
       "      <td>262.080488</td>\n",
       "      <td>232.300000</td>\n",
       "    </tr>\n",
       "    <tr>\n",
       "      <th>std</th>\n",
       "      <td>417.188863</td>\n",
       "      <td>460.440981</td>\n",
       "      <td>458.833778</td>\n",
       "      <td>978.678845</td>\n",
       "    </tr>\n",
       "    <tr>\n",
       "      <th>min</th>\n",
       "      <td>1.000000</td>\n",
       "      <td>0.200000</td>\n",
       "      <td>1.000000</td>\n",
       "      <td>0.200000</td>\n",
       "    </tr>\n",
       "    <tr>\n",
       "      <th>25%</th>\n",
       "      <td>47.000000</td>\n",
       "      <td>16.050000</td>\n",
       "      <td>47.250000</td>\n",
       "      <td>13.250000</td>\n",
       "    </tr>\n",
       "    <tr>\n",
       "      <th>50%</th>\n",
       "      <td>106.000000</td>\n",
       "      <td>39.500000</td>\n",
       "      <td>109.000000</td>\n",
       "      <td>42.100000</td>\n",
       "    </tr>\n",
       "    <tr>\n",
       "      <th>75%</th>\n",
       "      <td>236.500000</td>\n",
       "      <td>106.850000</td>\n",
       "      <td>271.250000</td>\n",
       "      <td>129.150000</td>\n",
       "    </tr>\n",
       "    <tr>\n",
       "      <th>max</th>\n",
       "      <td>5655.000000</td>\n",
       "      <td>7414.400000</td>\n",
       "      <td>4190.000000</td>\n",
       "      <td>15280.000000</td>\n",
       "    </tr>\n",
       "  </tbody>\n",
       "</table>\n",
       "</div>"
      ],
      "text/plain": [
       "          BetCount  ValidTurnover  BetCount_after  ValidTurnover_after\n",
       "count   410.000000     410.000000      410.000000           410.000000\n",
       "mean    228.914634     146.377561      262.080488           232.300000\n",
       "std     417.188863     460.440981      458.833778           978.678845\n",
       "min       1.000000       0.200000        1.000000             0.200000\n",
       "25%      47.000000      16.050000       47.250000            13.250000\n",
       "50%     106.000000      39.500000      109.000000            42.100000\n",
       "75%     236.500000     106.850000      271.250000           129.150000\n",
       "max    5655.000000    7414.400000     4190.000000         15280.000000"
      ]
     },
     "execution_count": 72,
     "metadata": {},
     "output_type": "execute_result"
    }
   ],
   "source": [
    "df.describe()"
   ]
  },
  {
   "cell_type": "code",
   "execution_count": 74,
   "id": "c45213eb",
   "metadata": {},
   "outputs": [
    {
     "name": "stdout",
     "output_type": "stream",
     "text": [
      "146.3775609756097\n",
      "232.2999999999999\n"
     ]
    }
   ],
   "source": [
    "# calculate means\n",
    "mean1, mean2 = np.mean(df['ValidTurnover']), np.mean(df['ValidTurnover_after'])\n",
    "print(mean1)\n",
    "print(mean2)"
   ]
  },
  {
   "cell_type": "code",
   "execution_count": 73,
   "id": "18f2404d",
   "metadata": {},
   "outputs": [],
   "source": [
    "# calculate sample standard deviations\n",
    "std1, std2 = np.std(df['ValidTurnover']), np.std(df['ValidTurnover_after'])"
   ]
  },
  {
   "cell_type": "code",
   "execution_count": 75,
   "id": "d73d5f6c",
   "metadata": {},
   "outputs": [
    {
     "name": "stdout",
     "output_type": "stream",
     "text": [
      "22.574578400735927\n",
      "48.27452376620876\n"
     ]
    }
   ],
   "source": [
    "# calculate standard errors\n",
    "n1, n2 = len(df1), len(df2)\n",
    "se1, se2 = std1/np.sqrt(n1), std2/np.sqrt(n2)\n",
    "print(se1)\n",
    "print(se2)"
   ]
  },
  {
   "cell_type": "code",
   "execution_count": 76,
   "id": "bc4efce3",
   "metadata": {},
   "outputs": [
    {
     "data": {
      "text/plain": [
       "53.292037255346386"
      ]
     },
     "execution_count": 76,
     "metadata": {},
     "output_type": "execute_result"
    }
   ],
   "source": [
    "# standard error on the difference between the samples\n",
    "sed = np.sqrt(se1**2.0 + se2**2.0)\n",
    "sed"
   ]
  },
  {
   "cell_type": "code",
   "execution_count": 77,
   "id": "a2e393d7",
   "metadata": {},
   "outputs": [
    {
     "data": {
      "text/plain": [
       "[(0.0, 200.0)]"
      ]
     },
     "execution_count": 77,
     "metadata": {},
     "output_type": "execute_result"
    },
    {
     "data": {
      "image/png": "[encoded data removed]",
      "text/plain": [
       "<Figure size 1008x720 with 2 Axes>"
      ]
     },
     "metadata": {
      "needs_background": "light"
     },
     "output_type": "display_data"
    }
   ],
   "source": [
    "# histogram\n",
    "fig, axs = plt.subplots(2,1 , figsize=(14, 10))\n",
    "\n",
    "sns.histplot(data= df , x=\"ValidTurnover\" , ax=axs[0],binwidth=25)\n",
    "axs[0].set_title('Before')\n",
    "axs[0].set(xlim=(0, 800))\n",
    "axs[0].set(ylim=(0, 200))\n",
    "\n",
    "sns.histplot(data= df , x=\"ValidTurnover_after\" , ax=axs[1],binwidth=25)\n",
    "axs[1].set_title('After')\n",
    "axs[1].set(xlim=(0, 800))\n",
    "axs[1].set(ylim=(0, 200))"
   ]
  },
  {
   "cell_type": "code",
   "execution_count": 78,
   "id": "b536f0c3",
   "metadata": {},
   "outputs": [
    {
     "data": {
      "text/plain": [
       "[(0.0, 400.0)]"
      ]
     },
     "execution_count": 78,
     "metadata": {},
     "output_type": "execute_result"
    },
    {
     "data": {
      "image/png": "[encoded data removed]",
      "text/plain": [
       "<Figure size 1008x720 with 2 Axes>"
      ]
     },
     "metadata": {
      "needs_background": "light"
     },
     "output_type": "display_data"
    }
   ],
   "source": [
    "# boxplot\n",
    "fig, axs = plt.subplots(2,1 , figsize=(14, 10))\n",
    "\n",
    "sns.boxplot(data= df , x=\"ValidTurnover\" , ax=axs[0])\n",
    "axs[0].set_title('Before')\n",
    "axs[0].set(xlim=(0, 400))\n",
    "\n",
    "sns.boxplot(data= df , x=\"ValidTurnover_after\" , ax=axs[1])\n",
    "axs[1].set_title('After')\n",
    "axs[1].set(xlim=(0, 400))"
   ]
  },
  {
   "cell_type": "code",
   "execution_count": 79,
   "id": "c7f71af5",
   "metadata": {},
   "outputs": [
    {
     "data": {
      "text/plain": [
       "[(0.0, 800.0)]"
      ]
     },
     "execution_count": 79,
     "metadata": {},
     "output_type": "execute_result"
    },
    {
     "data": {
      "image/png": "[encoded data removed]",
      "text/plain": [
       "<Figure size 1008x720 with 2 Axes>"
      ]
     },
     "metadata": {
      "needs_background": "light"
     },
     "output_type": "display_data"
    }
   ],
   "source": [
    "# boxplot\n",
    "fig, axs = plt.subplots(2,1 , figsize=(14, 10))\n",
    "\n",
    "sns.boxplot(data= df , x=\"BetCount\" , ax=axs[0], saturation=.95)\n",
    "axs[0].set_title('Before')\n",
    "axs[0].set(xlim=(0, 800))\n",
    "\n",
    "sns.boxplot(data= df , x=\"BetCount_after\" , ax=axs[1], saturation=.95)\n",
    "axs[1].set_title('After')\n",
    "axs[1].set(xlim=(0, 800))"
   ]
  },
  {
   "cell_type": "markdown",
   "id": "a2d930f1",
   "metadata": {},
   "source": [
    "# Valid Turnover"
   ]
  },
  {
   "cell_type": "code",
   "execution_count": 80,
   "id": "1d064f7b",
   "metadata": {},
   "outputs": [],
   "source": [
    "summary, results = rp.ttest(group1 = df['ValidTurnover'], group1_name= \"Before\",\n",
    "                            group2 = df['ValidTurnover_after'], group2_name= \"After\")"
   ]
  },
  {
   "cell_type": "code",
   "execution_count": 81,
   "id": "3e1b4016",
   "metadata": {},
   "outputs": [
    {
     "name": "stdout",
     "output_type": "stream",
     "text": [
      "   Variable      N        Mean          SD         SE   95% Conf.    Interval\n",
      "0    Before  410.0  146.377561  460.440981  22.739559  101.676566  191.078556\n",
      "1     After  410.0  232.300000  978.678845  48.333503  137.286915  327.313085\n",
      "2  combined  820.0  189.338780  765.534346  26.733619  136.864302  241.813259\n"
     ]
    }
   ],
   "source": [
    "print(summary)"
   ]
  },
  {
   "cell_type": "code",
   "execution_count": 82,
   "id": "b68d53a5",
   "metadata": {},
   "outputs": [
    {
     "name": "stdout",
     "output_type": "stream",
     "text": [
      "               Independent t-test   results\n",
      "0  Difference (Before - After) =   -85.9224\n",
      "1           Degrees of freedom =   818.0000\n",
      "2                            t =    -1.6086\n",
      "3        Two side test p value =     0.1081\n",
      "4       Difference < 0 p value =     0.0540\n",
      "5       Difference > 0 p value =     0.9460\n",
      "6                    Cohen's d =    -0.1123\n",
      "7                    Hedge's g =    -0.1122\n",
      "8                Glass's delta =    -0.1866\n",
      "9                  Pearson's r =     0.0562\n"
     ]
    }
   ],
   "source": [
    "print(results)"
   ]
  },
  {
   "cell_type": "code",
   "execution_count": 83,
   "id": "34e360fc",
   "metadata": {},
   "outputs": [
    {
     "data": {
      "text/plain": [
       "Ttest_indResult(statistic=-1.6085676926864623, pvalue=0.10809675774439602)"
      ]
     },
     "execution_count": 83,
     "metadata": {},
     "output_type": "execute_result"
    }
   ],
   "source": [
    "# results\n",
    "stats.ttest_ind( df['ValidTurnover'], df['ValidTurnover_after'])"
   ]
  },
  {
   "cell_type": "code",
   "execution_count": 84,
   "id": "0a70a205",
   "metadata": {},
   "outputs": [
    {
     "name": "stdout",
     "output_type": "stream",
     "text": [
      "0.0627448048898181\n"
     ]
    }
   ],
   "source": [
    "# define alpha and degree of freedom\n",
    "alpha = 0.95\n",
    "dof = len(df1) - 1\n",
    "\n",
    "# critical value\n",
    "value = t.ppf(1-alpha/2, dof)\n",
    "print(value)"
   ]
  },
  {
   "cell_type": "markdown",
   "id": "c1186433",
   "metadata": {},
   "source": [
    "# BetCount / Spins"
   ]
  },
  {
   "cell_type": "code",
   "execution_count": 85,
   "id": "888cd8a7",
   "metadata": {},
   "outputs": [],
   "source": [
    "summary, results = rp.ttest(group1 = df['BetCount'], group1_name= \"Before\",\n",
    "                            group2 = df['BetCount_after'], group2_name= \"After\")"
   ]
  },
  {
   "cell_type": "code",
   "execution_count": 86,
   "id": "ae7fa9ac",
   "metadata": {},
   "outputs": [
    {
     "name": "stdout",
     "output_type": "stream",
     "text": [
      "   Variable      N        Mean          SD         SE   95% Conf.    Interval\n",
      "0    Before  410.0  228.914634  417.188863  20.603489  188.412685  269.416584\n",
      "1     After  410.0  262.080488  458.833778  22.660185  217.535525  306.625451\n",
      "2  combined  820.0  245.497561  438.552207  15.314907  215.436469  275.558653\n"
     ]
    }
   ],
   "source": [
    "print(summary)"
   ]
  },
  {
   "cell_type": "code",
   "execution_count": 87,
   "id": "655e7fb2",
   "metadata": {},
   "outputs": [
    {
     "name": "stdout",
     "output_type": "stream",
     "text": [
      "               Independent t-test   results\n",
      "0  Difference (Before - After) =   -33.1659\n",
      "1           Degrees of freedom =   818.0000\n",
      "2                            t =    -1.0829\n",
      "3        Two side test p value =     0.2792\n",
      "4       Difference < 0 p value =     0.1396\n",
      "5       Difference > 0 p value =     0.8604\n",
      "6                    Cohen's d =    -0.0756\n",
      "7                    Hedge's g =    -0.0756\n",
      "8                Glass's delta =    -0.0795\n",
      "9                  Pearson's r =     0.0378\n"
     ]
    }
   ],
   "source": [
    "print(results)"
   ]
  },
  {
   "cell_type": "code",
   "execution_count": 88,
   "id": "f81adea4",
   "metadata": {},
   "outputs": [
    {
     "data": {
      "text/plain": [
       "Ttest_indResult(statistic=-1.082910571313614, pvalue=0.2791672227054289)"
      ]
     },
     "execution_count": 88,
     "metadata": {},
     "output_type": "execute_result"
    }
   ],
   "source": [
    "# results\n",
    "stats.ttest_ind( df['BetCount'], df['BetCount_after'])"
   ]
  },
  {
   "cell_type": "code",
   "execution_count": 89,
   "id": "68ff60cf",
   "metadata": {},
   "outputs": [
    {
     "name": "stdout",
     "output_type": "stream",
     "text": [
      "0.0627448048898181\n"
     ]
    }
   ],
   "source": [
    "# define alpha and degree of freedom\n",
    "alpha = 0.95\n",
    "dof = len(df1) - 1\n",
    "\n",
    "# critical value\n",
    "value = t.ppf(1-alpha/2, dof)\n",
    "print(value)"
   ]
  },
  {
   "cell_type": "code",
   "execution_count": null,
   "id": "e9d68763",
   "metadata": {},
   "outputs": [],
   "source": []
  }
 ],
 "metadata": {
  "kernelspec": {
   "display_name": "Python 3",
   "language": "python",
   "name": "python3"
  },
  "language_info": {
   "codemirror_mode": {
    "name": "ipython",
    "version": 3
   },
   "file_extension": ".py",
   "mimetype": "text/x-python",
   "name": "python",
   "nbconvert_exporter": "python",
   "pygments_lexer": "ipython3",
   "version": "3.8.8"
  }
 },
 "nbformat": 4,
 "nbformat_minor": 5
}
