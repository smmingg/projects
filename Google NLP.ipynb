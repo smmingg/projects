{
 "cells": [
  {
   "cell_type": "code",
   "execution_count": 11,
   "metadata": {},
   "outputs": [],
   "source": [
    "import pandas as pd"
   ]
  },
  {
   "cell_type": "code",
   "execution_count": 15,
   "metadata": {},
   "outputs": [],
   "source": [
    "stage1 = pd.read_csv('D:/data/Google NLP/test_stage_1.tsv', sep='\\t')\n",
    "stage2 = pd.read_csv('D:/data/Google NLP/test_stage_2.tsv', sep='\\t')"
   ]
  },
  {
   "cell_type": "code",
   "execution_count": 16,
   "metadata": {},
   "outputs": [
    {
     "data": {
      "text/html": [
       "<div>\n",
       "<style scoped>\n",
       "    .dataframe tbody tr th:only-of-type {\n",
       "        vertical-align: middle;\n",
       "    }\n",
       "\n",
       "    .dataframe tbody tr th {\n",
       "        vertical-align: top;\n",
       "    }\n",
       "\n",
       "    .dataframe thead th {\n",
       "        text-align: right;\n",
       "    }\n",
       "</style>\n",
       "<table border=\"1\" class=\"dataframe\">\n",
       "  <thead>\n",
       "    <tr style=\"text-align: right;\">\n",
       "      <th></th>\n",
       "      <th>ID</th>\n",
       "      <th>Text</th>\n",
       "      <th>Pronoun</th>\n",
       "      <th>Pronoun-offset</th>\n",
       "      <th>A</th>\n",
       "      <th>A-offset</th>\n",
       "      <th>B</th>\n",
       "      <th>B-offset</th>\n",
       "      <th>URL</th>\n",
       "    </tr>\n",
       "  </thead>\n",
       "  <tbody>\n",
       "    <tr>\n",
       "      <th>0</th>\n",
       "      <td>development-1</td>\n",
       "      <td>Zoe Telford -- played the police officer girlf...</td>\n",
       "      <td>her</td>\n",
       "      <td>274</td>\n",
       "      <td>Cheryl Cassidy</td>\n",
       "      <td>191</td>\n",
       "      <td>Pauline</td>\n",
       "      <td>207</td>\n",
       "      <td>http://en.wikipedia.org/wiki/List_of_Teachers_...</td>\n",
       "    </tr>\n",
       "    <tr>\n",
       "      <th>1</th>\n",
       "      <td>development-2</td>\n",
       "      <td>He grew up in Evanston, Illinois the second ol...</td>\n",
       "      <td>His</td>\n",
       "      <td>284</td>\n",
       "      <td>MacKenzie</td>\n",
       "      <td>228</td>\n",
       "      <td>Bernard Leach</td>\n",
       "      <td>251</td>\n",
       "      <td>http://en.wikipedia.org/wiki/Warren_MacKenzie</td>\n",
       "    </tr>\n",
       "    <tr>\n",
       "      <th>2</th>\n",
       "      <td>development-3</td>\n",
       "      <td>He had been reelected to Congress, but resigne...</td>\n",
       "      <td>his</td>\n",
       "      <td>265</td>\n",
       "      <td>Angeloz</td>\n",
       "      <td>173</td>\n",
       "      <td>De la Sota</td>\n",
       "      <td>246</td>\n",
       "      <td>http://en.wikipedia.org/wiki/Jos%C3%A9_Manuel_...</td>\n",
       "    </tr>\n",
       "    <tr>\n",
       "      <th>3</th>\n",
       "      <td>development-4</td>\n",
       "      <td>The current members of Crime have also perform...</td>\n",
       "      <td>his</td>\n",
       "      <td>321</td>\n",
       "      <td>Hell</td>\n",
       "      <td>174</td>\n",
       "      <td>Henry Rosenthal</td>\n",
       "      <td>336</td>\n",
       "      <td>http://en.wikipedia.org/wiki/Crime_(band)</td>\n",
       "    </tr>\n",
       "    <tr>\n",
       "      <th>4</th>\n",
       "      <td>development-5</td>\n",
       "      <td>Her Santa Fe Opera debut in 2005 was as Nuria ...</td>\n",
       "      <td>She</td>\n",
       "      <td>437</td>\n",
       "      <td>Kitty Oppenheimer</td>\n",
       "      <td>219</td>\n",
       "      <td>Rivera</td>\n",
       "      <td>294</td>\n",
       "      <td>http://en.wikipedia.org/wiki/Jessica_Rivera</td>\n",
       "    </tr>\n",
       "  </tbody>\n",
       "</table>\n",
       "</div>"
      ],
      "text/plain": [
       "              ID                                               Text Pronoun  \\\n",
       "0  development-1  Zoe Telford -- played the police officer girlf...     her   \n",
       "1  development-2  He grew up in Evanston, Illinois the second ol...     His   \n",
       "2  development-3  He had been reelected to Congress, but resigne...     his   \n",
       "3  development-4  The current members of Crime have also perform...     his   \n",
       "4  development-5  Her Santa Fe Opera debut in 2005 was as Nuria ...     She   \n",
       "\n",
       "   Pronoun-offset                  A  A-offset                B  B-offset  \\\n",
       "0             274     Cheryl Cassidy       191          Pauline       207   \n",
       "1             284          MacKenzie       228    Bernard Leach       251   \n",
       "2             265            Angeloz       173       De la Sota       246   \n",
       "3             321               Hell       174  Henry Rosenthal       336   \n",
       "4             437  Kitty Oppenheimer       219           Rivera       294   \n",
       "\n",
       "                                                 URL  \n",
       "0  http://en.wikipedia.org/wiki/List_of_Teachers_...  \n",
       "1      http://en.wikipedia.org/wiki/Warren_MacKenzie  \n",
       "2  http://en.wikipedia.org/wiki/Jos%C3%A9_Manuel_...  \n",
       "3          http://en.wikipedia.org/wiki/Crime_(band)  \n",
       "4        http://en.wikipedia.org/wiki/Jessica_Rivera  "
      ]
     },
     "execution_count": 16,
     "metadata": {},
     "output_type": "execute_result"
    }
   ],
   "source": [
    "stage1.head()"
   ]
  },
  {
   "cell_type": "code",
   "execution_count": 17,
   "metadata": {},
   "outputs": [
    {
     "data": {
      "text/html": [
       "<div>\n",
       "<style scoped>\n",
       "    .dataframe tbody tr th:only-of-type {\n",
       "        vertical-align: middle;\n",
       "    }\n",
       "\n",
       "    .dataframe tbody tr th {\n",
       "        vertical-align: top;\n",
       "    }\n",
       "\n",
       "    .dataframe thead th {\n",
       "        text-align: right;\n",
       "    }\n",
       "</style>\n",
       "<table border=\"1\" class=\"dataframe\">\n",
       "  <thead>\n",
       "    <tr style=\"text-align: right;\">\n",
       "      <th></th>\n",
       "      <th>ID</th>\n",
       "      <th>Text</th>\n",
       "      <th>Pronoun</th>\n",
       "      <th>Pronoun-offset</th>\n",
       "      <th>A</th>\n",
       "      <th>A-offset</th>\n",
       "      <th>B</th>\n",
       "      <th>B-offset</th>\n",
       "      <th>URL</th>\n",
       "    </tr>\n",
       "  </thead>\n",
       "  <tbody>\n",
       "    <tr>\n",
       "      <th>0</th>\n",
       "      <td>000075809a8e6b062f5fb3c191a8ed52</td>\n",
       "      <td>For the U.S. Under Secretary of State, see Luc...</td>\n",
       "      <td>she</td>\n",
       "      <td>310</td>\n",
       "      <td>Lucy Benson</td>\n",
       "      <td>59</td>\n",
       "      <td>Kerrie Taylor</td>\n",
       "      <td>160</td>\n",
       "      <td>http://en.wikipedia.org/wiki/Lucy_Benson</td>\n",
       "    </tr>\n",
       "    <tr>\n",
       "      <th>1</th>\n",
       "      <td>0005d0f3b0a6c9ffbd31a48453029911</td>\n",
       "      <td>After this match, she reached her new career h...</td>\n",
       "      <td>she</td>\n",
       "      <td>334</td>\n",
       "      <td>Kudryavtseva</td>\n",
       "      <td>182</td>\n",
       "      <td>Maria Sharapova</td>\n",
       "      <td>259</td>\n",
       "      <td>http://en.wikipedia.org/wiki/Alla_Kudryavtseva</td>\n",
       "    </tr>\n",
       "    <tr>\n",
       "      <th>2</th>\n",
       "      <td>0007775c40bedd4147a0573d66dc28f8</td>\n",
       "      <td>In the same way in his Preface of the Books of...</td>\n",
       "      <td>his</td>\n",
       "      <td>298</td>\n",
       "      <td>Ezra</td>\n",
       "      <td>191</td>\n",
       "      <td>Jerome</td>\n",
       "      <td>323</td>\n",
       "      <td>http://en.wikipedia.org/wiki/Development_of_th...</td>\n",
       "    </tr>\n",
       "    <tr>\n",
       "      <th>3</th>\n",
       "      <td>001194e3fe1234d00198ef6bba4cc588</td>\n",
       "      <td>Anita's so-called homeless mate Machteld Steen...</td>\n",
       "      <td>she</td>\n",
       "      <td>313</td>\n",
       "      <td>Dian</td>\n",
       "      <td>205</td>\n",
       "      <td>Anita</td>\n",
       "      <td>278</td>\n",
       "      <td>http://en.wikipedia.org/wiki/Dian_Alberts</td>\n",
       "    </tr>\n",
       "    <tr>\n",
       "      <th>4</th>\n",
       "      <td>0014bb7085278ef3f9b74f14771caca9</td>\n",
       "      <td>By March, she was the King's mistress, install...</td>\n",
       "      <td>her</td>\n",
       "      <td>362</td>\n",
       "      <td>Pompadour</td>\n",
       "      <td>262</td>\n",
       "      <td>Jeanne Antoinette</td>\n",
       "      <td>336</td>\n",
       "      <td>http://en.wikipedia.org/wiki/Madame_de_Pompadour</td>\n",
       "    </tr>\n",
       "  </tbody>\n",
       "</table>\n",
       "</div>"
      ],
      "text/plain": [
       "                                 ID  \\\n",
       "0  000075809a8e6b062f5fb3c191a8ed52   \n",
       "1  0005d0f3b0a6c9ffbd31a48453029911   \n",
       "2  0007775c40bedd4147a0573d66dc28f8   \n",
       "3  001194e3fe1234d00198ef6bba4cc588   \n",
       "4  0014bb7085278ef3f9b74f14771caca9   \n",
       "\n",
       "                                                Text Pronoun  Pronoun-offset  \\\n",
       "0  For the U.S. Under Secretary of State, see Luc...     she             310   \n",
       "1  After this match, she reached her new career h...     she             334   \n",
       "2  In the same way in his Preface of the Books of...     his             298   \n",
       "3  Anita's so-called homeless mate Machteld Steen...     she             313   \n",
       "4  By March, she was the King's mistress, install...     her             362   \n",
       "\n",
       "              A  A-offset                  B  B-offset  \\\n",
       "0   Lucy Benson        59      Kerrie Taylor       160   \n",
       "1  Kudryavtseva       182    Maria Sharapova       259   \n",
       "2          Ezra       191             Jerome       323   \n",
       "3          Dian       205              Anita       278   \n",
       "4     Pompadour       262  Jeanne Antoinette       336   \n",
       "\n",
       "                                                 URL  \n",
       "0           http://en.wikipedia.org/wiki/Lucy_Benson  \n",
       "1     http://en.wikipedia.org/wiki/Alla_Kudryavtseva  \n",
       "2  http://en.wikipedia.org/wiki/Development_of_th...  \n",
       "3          http://en.wikipedia.org/wiki/Dian_Alberts  \n",
       "4   http://en.wikipedia.org/wiki/Madame_de_Pompadour  "
      ]
     },
     "execution_count": 17,
     "metadata": {},
     "output_type": "execute_result"
    }
   ],
   "source": [
    "stage2.head()"
   ]
  },
  {
   "cell_type": "code",
   "execution_count": 18,
   "metadata": {},
   "outputs": [
    {
     "name": "stdout",
     "output_type": "stream",
     "text": [
      "<class 'pandas.core.frame.DataFrame'>\n",
      "RangeIndex: 2000 entries, 0 to 1999\n",
      "Data columns (total 9 columns):\n",
      "ID                2000 non-null object\n",
      "Text              2000 non-null object\n",
      "Pronoun           2000 non-null object\n",
      "Pronoun-offset    2000 non-null int64\n",
      "A                 2000 non-null object\n",
      "A-offset          2000 non-null int64\n",
      "B                 2000 non-null object\n",
      "B-offset          2000 non-null int64\n",
      "URL               2000 non-null object\n",
      "dtypes: int64(3), object(6)\n",
      "memory usage: 140.7+ KB\n"
     ]
    }
   ],
   "source": [
    "stage1.info()"
   ]
  },
  {
   "cell_type": "code",
   "execution_count": 19,
   "metadata": {},
   "outputs": [
    {
     "name": "stdout",
     "output_type": "stream",
     "text": [
      "<class 'pandas.core.frame.DataFrame'>\n",
      "RangeIndex: 12359 entries, 0 to 12358\n",
      "Data columns (total 9 columns):\n",
      "ID                12359 non-null object\n",
      "Text              12359 non-null object\n",
      "Pronoun           12359 non-null object\n",
      "Pronoun-offset    12359 non-null int64\n",
      "A                 12359 non-null object\n",
      "A-offset          12359 non-null int64\n",
      "B                 12359 non-null object\n",
      "B-offset          12359 non-null int64\n",
      "URL               12359 non-null object\n",
      "dtypes: int64(3), object(6)\n",
      "memory usage: 869.1+ KB\n"
     ]
    }
   ],
   "source": [
    "stage2.info()"
   ]
  },
  {
   "cell_type": "code",
   "execution_count": 23,
   "metadata": {
    "scrolled": true
   },
   "outputs": [
    {
     "name": "stdout",
     "output_type": "stream",
     "text": [
      "204\n",
      "16\n"
     ]
    }
   ],
   "source": [
    "numberwords = stage1[\"Text\"].apply(lambda x: len(str(x).split()))\n",
    "print(numberwords.max())\n",
    "print(numberwords.min())"
   ]
  },
  {
   "cell_type": "code",
   "execution_count": 25,
   "metadata": {},
   "outputs": [],
   "source": [
    "from nltk.corpus import stopwords\n",
    "eng_stopwords = set(stopwords.words(\"english\"))"
   ]
  },
  {
   "cell_type": "code",
   "execution_count": 27,
   "metadata": {},
   "outputs": [
    {
     "name": "stdout",
     "output_type": "stream",
     "text": [
      "maximum of num_stopwords in stage1 88\n"
     ]
    }
   ],
   "source": [
    "stage1[\"num_stopwords\"] = stage1[\"Text\"].apply(lambda x: len([w for w in str(x).lower().split() if w in eng_stopwords]))\n",
    "\n",
    "print('maximum of num_stopwords in stage1',stage1[\"num_stopwords\"].max())"
   ]
  },
  {
   "cell_type": "code",
   "execution_count": 28,
   "metadata": {},
   "outputs": [
    {
     "name": "stdout",
     "output_type": "stream",
     "text": [
      "maximum of num_punctuations in stage1 93\n"
     ]
    }
   ],
   "source": [
    "import string\n",
    "\n",
    "stage1[\"num_punctuations\"] =stage1['Text'].apply(lambda x: len([c for c in str(x) if c in string.punctuation]) )\n",
    "print('maximum of num_punctuations in stage1',stage1[\"num_punctuations\"].max())"
   ]
  },
  {
   "cell_type": "code",
   "execution_count": null,
   "metadata": {},
   "outputs": [],
   "source": []
  }
 ],
 "metadata": {
  "kernelspec": {
   "display_name": "Python 3",
   "language": "python",
   "name": "python3"
  },
  "language_info": {
   "codemirror_mode": {
    "name": "ipython",
    "version": 3
   },
   "file_extension": ".py",
   "mimetype": "text/x-python",
   "name": "python",
   "nbconvert_exporter": "python",
   "pygments_lexer": "ipython3",
   "version": "3.7.3"
  }
 },
 "nbformat": 4,
 "nbformat_minor": 2
}
